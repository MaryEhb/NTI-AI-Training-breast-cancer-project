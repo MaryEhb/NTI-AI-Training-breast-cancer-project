{
 "cells": [
  {
   "cell_type": "markdown",
   "id": "4fd834e3",
   "metadata": {},
   "source": [
    "<div style=\"background-color:#67000d;color: #ffffff; padding:6px; text-align: center; font-size: 2rem\">\n",
    "    <h1>Breast Cancer Analysis</h1>\n",
    "</div>"
   ]
  },
  {
   "cell_type": "markdown",
   "id": "d7c06071",
   "metadata": {},
   "source": [
    "# Import Basic Packages"
   ]
  },
  {
   "cell_type": "code",
   "execution_count": 181,
   "id": "9ef4c7fe",
   "metadata": {},
   "outputs": [],
   "source": [
    "import numpy as np                         # Handle Numerical Data (Store, load, oprations)\n",
    "import pandas as pd                        # convert datasheets to data frames\n",
    "import matplotlib.pyplot as plt            # used to (draw/plot) the data for visual representations\n",
    "import seaborn as sns                      # easier than matplotlib but has less functions"
   ]
  },
  {
   "cell_type": "markdown",
   "id": "397faf4c",
   "metadata": {},
   "source": [
    "# Get DataSet"
   ]
  },
  {
   "cell_type": "code",
   "execution_count": 182,
   "id": "97652e37",
   "metadata": {},
   "outputs": [
    {
     "data": {
      "text/html": [
       "<div>\n",
       "<style scoped>\n",
       "    .dataframe tbody tr th:only-of-type {\n",
       "        vertical-align: middle;\n",
       "    }\n",
       "\n",
       "    .dataframe tbody tr th {\n",
       "        vertical-align: top;\n",
       "    }\n",
       "\n",
       "    .dataframe thead th {\n",
       "        text-align: right;\n",
       "    }\n",
       "</style>\n",
       "<table border=\"1\" class=\"dataframe\">\n",
       "  <thead>\n",
       "    <tr style=\"text-align: right;\">\n",
       "      <th></th>\n",
       "      <th>Age</th>\n",
       "      <th>Race</th>\n",
       "      <th>Marital Status</th>\n",
       "      <th>T Stage</th>\n",
       "      <th>N Stage</th>\n",
       "      <th>6th Stage</th>\n",
       "      <th>differentiate</th>\n",
       "      <th>Grade</th>\n",
       "      <th>A Stage</th>\n",
       "      <th>Tumor Size</th>\n",
       "      <th>Estrogen Status</th>\n",
       "      <th>Progesterone Status</th>\n",
       "      <th>Regional Node Examined</th>\n",
       "      <th>Reginol Node Positive</th>\n",
       "      <th>Survival Months</th>\n",
       "      <th>Status</th>\n",
       "    </tr>\n",
       "  </thead>\n",
       "  <tbody>\n",
       "    <tr>\n",
       "      <th>0</th>\n",
       "      <td>68</td>\n",
       "      <td>White</td>\n",
       "      <td>Married</td>\n",
       "      <td>T1</td>\n",
       "      <td>N1</td>\n",
       "      <td>IIA</td>\n",
       "      <td>Poorly differentiated</td>\n",
       "      <td>3</td>\n",
       "      <td>Regional</td>\n",
       "      <td>4</td>\n",
       "      <td>Positive</td>\n",
       "      <td>Positive</td>\n",
       "      <td>24</td>\n",
       "      <td>1</td>\n",
       "      <td>60</td>\n",
       "      <td>Alive</td>\n",
       "    </tr>\n",
       "    <tr>\n",
       "      <th>1</th>\n",
       "      <td>50</td>\n",
       "      <td>White</td>\n",
       "      <td>Married</td>\n",
       "      <td>T2</td>\n",
       "      <td>N2</td>\n",
       "      <td>IIIA</td>\n",
       "      <td>Moderately differentiated</td>\n",
       "      <td>2</td>\n",
       "      <td>Regional</td>\n",
       "      <td>35</td>\n",
       "      <td>Positive</td>\n",
       "      <td>Positive</td>\n",
       "      <td>14</td>\n",
       "      <td>5</td>\n",
       "      <td>62</td>\n",
       "      <td>Alive</td>\n",
       "    </tr>\n",
       "    <tr>\n",
       "      <th>2</th>\n",
       "      <td>58</td>\n",
       "      <td>White</td>\n",
       "      <td>Divorced</td>\n",
       "      <td>T3</td>\n",
       "      <td>N3</td>\n",
       "      <td>IIIC</td>\n",
       "      <td>Moderately differentiated</td>\n",
       "      <td>2</td>\n",
       "      <td>Regional</td>\n",
       "      <td>63</td>\n",
       "      <td>Positive</td>\n",
       "      <td>Positive</td>\n",
       "      <td>14</td>\n",
       "      <td>7</td>\n",
       "      <td>75</td>\n",
       "      <td>Alive</td>\n",
       "    </tr>\n",
       "    <tr>\n",
       "      <th>3</th>\n",
       "      <td>58</td>\n",
       "      <td>White</td>\n",
       "      <td>Married</td>\n",
       "      <td>T1</td>\n",
       "      <td>N1</td>\n",
       "      <td>IIA</td>\n",
       "      <td>Poorly differentiated</td>\n",
       "      <td>3</td>\n",
       "      <td>Regional</td>\n",
       "      <td>18</td>\n",
       "      <td>Positive</td>\n",
       "      <td>Positive</td>\n",
       "      <td>2</td>\n",
       "      <td>1</td>\n",
       "      <td>84</td>\n",
       "      <td>Alive</td>\n",
       "    </tr>\n",
       "    <tr>\n",
       "      <th>4</th>\n",
       "      <td>47</td>\n",
       "      <td>White</td>\n",
       "      <td>Married</td>\n",
       "      <td>T2</td>\n",
       "      <td>N1</td>\n",
       "      <td>IIB</td>\n",
       "      <td>Poorly differentiated</td>\n",
       "      <td>3</td>\n",
       "      <td>Regional</td>\n",
       "      <td>41</td>\n",
       "      <td>Positive</td>\n",
       "      <td>Positive</td>\n",
       "      <td>3</td>\n",
       "      <td>1</td>\n",
       "      <td>50</td>\n",
       "      <td>Alive</td>\n",
       "    </tr>\n",
       "    <tr>\n",
       "      <th>...</th>\n",
       "      <td>...</td>\n",
       "      <td>...</td>\n",
       "      <td>...</td>\n",
       "      <td>...</td>\n",
       "      <td>...</td>\n",
       "      <td>...</td>\n",
       "      <td>...</td>\n",
       "      <td>...</td>\n",
       "      <td>...</td>\n",
       "      <td>...</td>\n",
       "      <td>...</td>\n",
       "      <td>...</td>\n",
       "      <td>...</td>\n",
       "      <td>...</td>\n",
       "      <td>...</td>\n",
       "      <td>...</td>\n",
       "    </tr>\n",
       "    <tr>\n",
       "      <th>4019</th>\n",
       "      <td>62</td>\n",
       "      <td>Other</td>\n",
       "      <td>Married</td>\n",
       "      <td>T1</td>\n",
       "      <td>N1</td>\n",
       "      <td>IIA</td>\n",
       "      <td>Moderately differentiated</td>\n",
       "      <td>2</td>\n",
       "      <td>Regional</td>\n",
       "      <td>9</td>\n",
       "      <td>Positive</td>\n",
       "      <td>Positive</td>\n",
       "      <td>1</td>\n",
       "      <td>1</td>\n",
       "      <td>49</td>\n",
       "      <td>Alive</td>\n",
       "    </tr>\n",
       "    <tr>\n",
       "      <th>4020</th>\n",
       "      <td>56</td>\n",
       "      <td>White</td>\n",
       "      <td>Divorced</td>\n",
       "      <td>T2</td>\n",
       "      <td>N2</td>\n",
       "      <td>IIIA</td>\n",
       "      <td>Moderately differentiated</td>\n",
       "      <td>2</td>\n",
       "      <td>Regional</td>\n",
       "      <td>46</td>\n",
       "      <td>Positive</td>\n",
       "      <td>Positive</td>\n",
       "      <td>14</td>\n",
       "      <td>8</td>\n",
       "      <td>69</td>\n",
       "      <td>Alive</td>\n",
       "    </tr>\n",
       "    <tr>\n",
       "      <th>4021</th>\n",
       "      <td>68</td>\n",
       "      <td>White</td>\n",
       "      <td>Married</td>\n",
       "      <td>T2</td>\n",
       "      <td>N1</td>\n",
       "      <td>IIB</td>\n",
       "      <td>Moderately differentiated</td>\n",
       "      <td>2</td>\n",
       "      <td>Regional</td>\n",
       "      <td>22</td>\n",
       "      <td>Positive</td>\n",
       "      <td>Negative</td>\n",
       "      <td>11</td>\n",
       "      <td>3</td>\n",
       "      <td>69</td>\n",
       "      <td>Alive</td>\n",
       "    </tr>\n",
       "    <tr>\n",
       "      <th>4022</th>\n",
       "      <td>58</td>\n",
       "      <td>Black</td>\n",
       "      <td>Divorced</td>\n",
       "      <td>T2</td>\n",
       "      <td>N1</td>\n",
       "      <td>IIB</td>\n",
       "      <td>Moderately differentiated</td>\n",
       "      <td>2</td>\n",
       "      <td>Regional</td>\n",
       "      <td>44</td>\n",
       "      <td>Positive</td>\n",
       "      <td>Positive</td>\n",
       "      <td>11</td>\n",
       "      <td>1</td>\n",
       "      <td>72</td>\n",
       "      <td>Alive</td>\n",
       "    </tr>\n",
       "    <tr>\n",
       "      <th>4023</th>\n",
       "      <td>46</td>\n",
       "      <td>White</td>\n",
       "      <td>Married</td>\n",
       "      <td>T2</td>\n",
       "      <td>N1</td>\n",
       "      <td>IIB</td>\n",
       "      <td>Moderately differentiated</td>\n",
       "      <td>2</td>\n",
       "      <td>Regional</td>\n",
       "      <td>30</td>\n",
       "      <td>Positive</td>\n",
       "      <td>Positive</td>\n",
       "      <td>7</td>\n",
       "      <td>2</td>\n",
       "      <td>100</td>\n",
       "      <td>Alive</td>\n",
       "    </tr>\n",
       "  </tbody>\n",
       "</table>\n",
       "<p>4024 rows × 16 columns</p>\n",
       "</div>"
      ],
      "text/plain": [
       "      Age   Race Marital Status T Stage  N Stage 6th Stage  \\\n",
       "0      68  White        Married       T1      N1       IIA   \n",
       "1      50  White        Married       T2      N2      IIIA   \n",
       "2      58  White       Divorced       T3      N3      IIIC   \n",
       "3      58  White        Married       T1      N1       IIA   \n",
       "4      47  White        Married       T2      N1       IIB   \n",
       "...   ...    ...            ...      ...     ...       ...   \n",
       "4019   62  Other        Married       T1      N1       IIA   \n",
       "4020   56  White       Divorced       T2      N2      IIIA   \n",
       "4021   68  White        Married       T2      N1       IIB   \n",
       "4022   58  Black       Divorced       T2      N1       IIB   \n",
       "4023   46  White        Married       T2      N1       IIB   \n",
       "\n",
       "                  differentiate Grade   A Stage  Tumor Size Estrogen Status  \\\n",
       "0         Poorly differentiated     3  Regional           4        Positive   \n",
       "1     Moderately differentiated     2  Regional          35        Positive   \n",
       "2     Moderately differentiated     2  Regional          63        Positive   \n",
       "3         Poorly differentiated     3  Regional          18        Positive   \n",
       "4         Poorly differentiated     3  Regional          41        Positive   \n",
       "...                         ...   ...       ...         ...             ...   \n",
       "4019  Moderately differentiated     2  Regional           9        Positive   \n",
       "4020  Moderately differentiated     2  Regional          46        Positive   \n",
       "4021  Moderately differentiated     2  Regional          22        Positive   \n",
       "4022  Moderately differentiated     2  Regional          44        Positive   \n",
       "4023  Moderately differentiated     2  Regional          30        Positive   \n",
       "\n",
       "     Progesterone Status  Regional Node Examined  Reginol Node Positive  \\\n",
       "0               Positive                      24                      1   \n",
       "1               Positive                      14                      5   \n",
       "2               Positive                      14                      7   \n",
       "3               Positive                       2                      1   \n",
       "4               Positive                       3                      1   \n",
       "...                  ...                     ...                    ...   \n",
       "4019            Positive                       1                      1   \n",
       "4020            Positive                      14                      8   \n",
       "4021            Negative                      11                      3   \n",
       "4022            Positive                      11                      1   \n",
       "4023            Positive                       7                      2   \n",
       "\n",
       "      Survival Months Status  \n",
       "0                  60  Alive  \n",
       "1                  62  Alive  \n",
       "2                  75  Alive  \n",
       "3                  84  Alive  \n",
       "4                  50  Alive  \n",
       "...               ...    ...  \n",
       "4019               49  Alive  \n",
       "4020               69  Alive  \n",
       "4021               69  Alive  \n",
       "4022               72  Alive  \n",
       "4023              100  Alive  \n",
       "\n",
       "[4024 rows x 16 columns]"
      ]
     },
     "execution_count": 182,
     "metadata": {},
     "output_type": "execute_result"
    }
   ],
   "source": [
    "df = pd.read_csv(\"Breast_Cancer.csv\")   # Get data and store it in df\n",
    "df"
   ]
  },
  {
   "cell_type": "code",
   "execution_count": 183,
   "id": "7f14192c",
   "metadata": {},
   "outputs": [
    {
     "data": {
      "text/html": [
       "<div>\n",
       "<style scoped>\n",
       "    .dataframe tbody tr th:only-of-type {\n",
       "        vertical-align: middle;\n",
       "    }\n",
       "\n",
       "    .dataframe tbody tr th {\n",
       "        vertical-align: top;\n",
       "    }\n",
       "\n",
       "    .dataframe thead th {\n",
       "        text-align: right;\n",
       "    }\n",
       "</style>\n",
       "<table border=\"1\" class=\"dataframe\">\n",
       "  <thead>\n",
       "    <tr style=\"text-align: right;\">\n",
       "      <th></th>\n",
       "      <th>Age</th>\n",
       "      <th>Race</th>\n",
       "      <th>Marital Status</th>\n",
       "      <th>T Stage</th>\n",
       "      <th>N Stage</th>\n",
       "      <th>6th Stage</th>\n",
       "      <th>differentiate</th>\n",
       "      <th>Grade</th>\n",
       "      <th>A Stage</th>\n",
       "      <th>Tumor Size</th>\n",
       "      <th>Estrogen Status</th>\n",
       "      <th>Progesterone Status</th>\n",
       "      <th>Regional Node Examined</th>\n",
       "      <th>Reginol Node Positive</th>\n",
       "      <th>Survival Months</th>\n",
       "      <th>Status</th>\n",
       "    </tr>\n",
       "  </thead>\n",
       "  <tbody>\n",
       "    <tr>\n",
       "      <th>2066</th>\n",
       "      <td>48</td>\n",
       "      <td>Black</td>\n",
       "      <td>Single</td>\n",
       "      <td>T2</td>\n",
       "      <td>N1</td>\n",
       "      <td>IIB</td>\n",
       "      <td>Poorly differentiated</td>\n",
       "      <td>3</td>\n",
       "      <td>Regional</td>\n",
       "      <td>21</td>\n",
       "      <td>Positive</td>\n",
       "      <td>Positive</td>\n",
       "      <td>2</td>\n",
       "      <td>1</td>\n",
       "      <td>86</td>\n",
       "      <td>Alive</td>\n",
       "    </tr>\n",
       "    <tr>\n",
       "      <th>2444</th>\n",
       "      <td>66</td>\n",
       "      <td>White</td>\n",
       "      <td>Married</td>\n",
       "      <td>T1</td>\n",
       "      <td>N1</td>\n",
       "      <td>IIA</td>\n",
       "      <td>Moderately differentiated</td>\n",
       "      <td>2</td>\n",
       "      <td>Regional</td>\n",
       "      <td>15</td>\n",
       "      <td>Positive</td>\n",
       "      <td>Positive</td>\n",
       "      <td>2</td>\n",
       "      <td>1</td>\n",
       "      <td>57</td>\n",
       "      <td>Alive</td>\n",
       "    </tr>\n",
       "    <tr>\n",
       "      <th>1414</th>\n",
       "      <td>54</td>\n",
       "      <td>White</td>\n",
       "      <td>Single</td>\n",
       "      <td>T1</td>\n",
       "      <td>N2</td>\n",
       "      <td>IIIA</td>\n",
       "      <td>Poorly differentiated</td>\n",
       "      <td>3</td>\n",
       "      <td>Regional</td>\n",
       "      <td>13</td>\n",
       "      <td>Positive</td>\n",
       "      <td>Negative</td>\n",
       "      <td>9</td>\n",
       "      <td>5</td>\n",
       "      <td>61</td>\n",
       "      <td>Alive</td>\n",
       "    </tr>\n",
       "    <tr>\n",
       "      <th>610</th>\n",
       "      <td>52</td>\n",
       "      <td>Other</td>\n",
       "      <td>Single</td>\n",
       "      <td>T2</td>\n",
       "      <td>N1</td>\n",
       "      <td>IIB</td>\n",
       "      <td>Poorly differentiated</td>\n",
       "      <td>3</td>\n",
       "      <td>Regional</td>\n",
       "      <td>30</td>\n",
       "      <td>Positive</td>\n",
       "      <td>Positive</td>\n",
       "      <td>6</td>\n",
       "      <td>1</td>\n",
       "      <td>62</td>\n",
       "      <td>Alive</td>\n",
       "    </tr>\n",
       "    <tr>\n",
       "      <th>75</th>\n",
       "      <td>56</td>\n",
       "      <td>White</td>\n",
       "      <td>Married</td>\n",
       "      <td>T3</td>\n",
       "      <td>N1</td>\n",
       "      <td>IIIA</td>\n",
       "      <td>Moderately differentiated</td>\n",
       "      <td>2</td>\n",
       "      <td>Regional</td>\n",
       "      <td>55</td>\n",
       "      <td>Positive</td>\n",
       "      <td>Positive</td>\n",
       "      <td>13</td>\n",
       "      <td>1</td>\n",
       "      <td>95</td>\n",
       "      <td>Alive</td>\n",
       "    </tr>\n",
       "  </tbody>\n",
       "</table>\n",
       "</div>"
      ],
      "text/plain": [
       "      Age   Race Marital Status T Stage  N Stage 6th Stage  \\\n",
       "2066   48  Black        Single        T2      N1       IIB   \n",
       "2444   66  White        Married       T1      N1       IIA   \n",
       "1414   54  White        Single        T1      N2      IIIA   \n",
       "610    52  Other        Single        T2      N1       IIB   \n",
       "75     56  White        Married       T3      N1      IIIA   \n",
       "\n",
       "                  differentiate Grade   A Stage  Tumor Size Estrogen Status  \\\n",
       "2066      Poorly differentiated     3  Regional          21        Positive   \n",
       "2444  Moderately differentiated     2  Regional          15        Positive   \n",
       "1414      Poorly differentiated     3  Regional          13        Positive   \n",
       "610       Poorly differentiated     3  Regional          30        Positive   \n",
       "75    Moderately differentiated     2  Regional          55        Positive   \n",
       "\n",
       "     Progesterone Status  Regional Node Examined  Reginol Node Positive  \\\n",
       "2066            Positive                       2                      1   \n",
       "2444            Positive                       2                      1   \n",
       "1414            Negative                       9                      5   \n",
       "610             Positive                       6                      1   \n",
       "75              Positive                      13                      1   \n",
       "\n",
       "      Survival Months Status  \n",
       "2066               86  Alive  \n",
       "2444               57  Alive  \n",
       "1414               61  Alive  \n",
       "610                62  Alive  \n",
       "75                 95  Alive  "
      ]
     },
     "execution_count": 183,
     "metadata": {},
     "output_type": "execute_result"
    }
   ],
   "source": [
    "df.sample(5)\n",
    "#df.head(6)         #defult is 5\n",
    "#df.tail(7)"
   ]
  },
  {
   "cell_type": "code",
   "execution_count": 184,
   "id": "78d8554d",
   "metadata": {},
   "outputs": [
    {
     "data": {
      "text/html": [
       "<div>\n",
       "<style scoped>\n",
       "    .dataframe tbody tr th:only-of-type {\n",
       "        vertical-align: middle;\n",
       "    }\n",
       "\n",
       "    .dataframe tbody tr th {\n",
       "        vertical-align: top;\n",
       "    }\n",
       "\n",
       "    .dataframe thead th {\n",
       "        text-align: right;\n",
       "    }\n",
       "</style>\n",
       "<table border=\"1\" class=\"dataframe\">\n",
       "  <thead>\n",
       "    <tr style=\"text-align: right;\">\n",
       "      <th></th>\n",
       "      <th>Age</th>\n",
       "      <th>Tumor Size</th>\n",
       "      <th>Regional Node Examined</th>\n",
       "      <th>Reginol Node Positive</th>\n",
       "      <th>Survival Months</th>\n",
       "    </tr>\n",
       "  </thead>\n",
       "  <tbody>\n",
       "    <tr>\n",
       "      <th>count</th>\n",
       "      <td>4024.000000</td>\n",
       "      <td>4024.000000</td>\n",
       "      <td>4024.000000</td>\n",
       "      <td>4024.000000</td>\n",
       "      <td>4024.000000</td>\n",
       "    </tr>\n",
       "    <tr>\n",
       "      <th>mean</th>\n",
       "      <td>53.972167</td>\n",
       "      <td>30.473658</td>\n",
       "      <td>14.357107</td>\n",
       "      <td>4.158052</td>\n",
       "      <td>71.297962</td>\n",
       "    </tr>\n",
       "    <tr>\n",
       "      <th>std</th>\n",
       "      <td>8.963134</td>\n",
       "      <td>21.119696</td>\n",
       "      <td>8.099675</td>\n",
       "      <td>5.109331</td>\n",
       "      <td>22.921430</td>\n",
       "    </tr>\n",
       "    <tr>\n",
       "      <th>min</th>\n",
       "      <td>30.000000</td>\n",
       "      <td>1.000000</td>\n",
       "      <td>1.000000</td>\n",
       "      <td>1.000000</td>\n",
       "      <td>1.000000</td>\n",
       "    </tr>\n",
       "    <tr>\n",
       "      <th>25%</th>\n",
       "      <td>47.000000</td>\n",
       "      <td>16.000000</td>\n",
       "      <td>9.000000</td>\n",
       "      <td>1.000000</td>\n",
       "      <td>56.000000</td>\n",
       "    </tr>\n",
       "    <tr>\n",
       "      <th>50%</th>\n",
       "      <td>54.000000</td>\n",
       "      <td>25.000000</td>\n",
       "      <td>14.000000</td>\n",
       "      <td>2.000000</td>\n",
       "      <td>73.000000</td>\n",
       "    </tr>\n",
       "    <tr>\n",
       "      <th>75%</th>\n",
       "      <td>61.000000</td>\n",
       "      <td>38.000000</td>\n",
       "      <td>19.000000</td>\n",
       "      <td>5.000000</td>\n",
       "      <td>90.000000</td>\n",
       "    </tr>\n",
       "    <tr>\n",
       "      <th>max</th>\n",
       "      <td>69.000000</td>\n",
       "      <td>140.000000</td>\n",
       "      <td>61.000000</td>\n",
       "      <td>46.000000</td>\n",
       "      <td>107.000000</td>\n",
       "    </tr>\n",
       "  </tbody>\n",
       "</table>\n",
       "</div>"
      ],
      "text/plain": [
       "               Age   Tumor Size  Regional Node Examined  \\\n",
       "count  4024.000000  4024.000000             4024.000000   \n",
       "mean     53.972167    30.473658               14.357107   \n",
       "std       8.963134    21.119696                8.099675   \n",
       "min      30.000000     1.000000                1.000000   \n",
       "25%      47.000000    16.000000                9.000000   \n",
       "50%      54.000000    25.000000               14.000000   \n",
       "75%      61.000000    38.000000               19.000000   \n",
       "max      69.000000   140.000000               61.000000   \n",
       "\n",
       "       Reginol Node Positive  Survival Months  \n",
       "count            4024.000000      4024.000000  \n",
       "mean                4.158052        71.297962  \n",
       "std                 5.109331        22.921430  \n",
       "min                 1.000000         1.000000  \n",
       "25%                 1.000000        56.000000  \n",
       "50%                 2.000000        73.000000  \n",
       "75%                 5.000000        90.000000  \n",
       "max                46.000000       107.000000  "
      ]
     },
     "execution_count": 184,
     "metadata": {},
     "output_type": "execute_result"
    }
   ],
   "source": [
    "df.describe()"
   ]
  },
  {
   "cell_type": "markdown",
   "id": "f85bc312",
   "metadata": {},
   "source": [
    "# Cleaning Data"
   ]
  },
  {
   "cell_type": "markdown",
   "id": "01143618",
   "metadata": {},
   "source": [
    "## Checking empty values"
   ]
  },
  {
   "cell_type": "code",
   "execution_count": 185,
   "id": "c63c89ca",
   "metadata": {},
   "outputs": [
    {
     "data": {
      "text/plain": [
       "Age                       0\n",
       "Race                      0\n",
       "Marital Status            0\n",
       "T Stage                   0\n",
       "N Stage                   0\n",
       "6th Stage                 0\n",
       "differentiate             0\n",
       "Grade                     0\n",
       "A Stage                   0\n",
       "Tumor Size                0\n",
       "Estrogen Status           0\n",
       "Progesterone Status       0\n",
       "Regional Node Examined    0\n",
       "Reginol Node Positive     0\n",
       "Survival Months           0\n",
       "Status                    0\n",
       "dtype: int64"
      ]
     },
     "execution_count": 185,
     "metadata": {},
     "output_type": "execute_result"
    }
   ],
   "source": [
    "df.isna().sum()"
   ]
  },
  {
   "cell_type": "markdown",
   "id": "bd939b1d",
   "metadata": {},
   "source": [
    "**Observation:**\n",
    "* There is no empty values"
   ]
  },
  {
   "cell_type": "markdown",
   "id": "b6f1862e",
   "metadata": {},
   "source": [
    "## Checking data types "
   ]
  },
  {
   "cell_type": "code",
   "execution_count": 186,
   "id": "167eb008",
   "metadata": {},
   "outputs": [
    {
     "data": {
      "text/plain": [
       "Age                        int64\n",
       "Race                      object\n",
       "Marital Status            object\n",
       "T Stage                   object\n",
       "N Stage                   object\n",
       "6th Stage                 object\n",
       "differentiate             object\n",
       "Grade                     object\n",
       "A Stage                   object\n",
       "Tumor Size                 int64\n",
       "Estrogen Status           object\n",
       "Progesterone Status       object\n",
       "Regional Node Examined     int64\n",
       "Reginol Node Positive      int64\n",
       "Survival Months            int64\n",
       "Status                    object\n",
       "dtype: object"
      ]
     },
     "execution_count": 186,
     "metadata": {},
     "output_type": "execute_result"
    }
   ],
   "source": [
    "df.dtypes"
   ]
  },
  {
   "cell_type": "markdown",
   "id": "0e428c07",
   "metadata": {},
   "source": [
    "**Observation:**\n",
    "* There are features of object type that have to be dealt with and converted to Numerical before visualizing and modelling"
   ]
  },
  {
   "cell_type": "markdown",
   "id": "7f392cc7",
   "metadata": {},
   "source": [
    "## Label Encoding (Change all strings to numerical representation)"
   ]
  },
  {
   "cell_type": "code",
   "execution_count": 187,
   "id": "771705d5",
   "metadata": {},
   "outputs": [],
   "source": [
    "Race = df['Race'].unique()\n",
    "Marital_Status = df['Marital Status'].unique()\n",
    "T_Stage = df['T Stage '].unique()\n",
    "N_Stage = df['N Stage'].unique()\n",
    "sixth_Stage = df['6th Stage'].unique()\n",
    "differentiate = df['differentiate'].unique()\n",
    "Grade = df['Grade'].unique()\n",
    "A_Stage = df['A Stage'].unique()\n",
    "Estrogen_Status = df['Estrogen Status'].unique()\n",
    "Progesterone_Status = df['Progesterone Status'].unique()\n",
    "Status = df['Status'].unique()"
   ]
  },
  {
   "cell_type": "code",
   "execution_count": 188,
   "id": "71e02b34",
   "metadata": {},
   "outputs": [],
   "source": [
    "from sklearn.preprocessing import LabelEncoder\n",
    "label_encoder = LabelEncoder()"
   ]
  },
  {
   "cell_type": "code",
   "execution_count": 189,
   "id": "6983b105",
   "metadata": {},
   "outputs": [
    {
     "data": {
      "text/html": [
       "<div>\n",
       "<style scoped>\n",
       "    .dataframe tbody tr th:only-of-type {\n",
       "        vertical-align: middle;\n",
       "    }\n",
       "\n",
       "    .dataframe tbody tr th {\n",
       "        vertical-align: top;\n",
       "    }\n",
       "\n",
       "    .dataframe thead th {\n",
       "        text-align: right;\n",
       "    }\n",
       "</style>\n",
       "<table border=\"1\" class=\"dataframe\">\n",
       "  <thead>\n",
       "    <tr style=\"text-align: right;\">\n",
       "      <th></th>\n",
       "      <th>Age</th>\n",
       "      <th>Race</th>\n",
       "      <th>Marital Status</th>\n",
       "      <th>T Stage</th>\n",
       "      <th>N Stage</th>\n",
       "      <th>6th Stage</th>\n",
       "      <th>differentiate</th>\n",
       "      <th>Grade</th>\n",
       "      <th>A Stage</th>\n",
       "      <th>Tumor Size</th>\n",
       "      <th>Estrogen Status</th>\n",
       "      <th>Progesterone Status</th>\n",
       "      <th>Regional Node Examined</th>\n",
       "      <th>Reginol Node Positive</th>\n",
       "      <th>Survival Months</th>\n",
       "      <th>Status</th>\n",
       "    </tr>\n",
       "  </thead>\n",
       "  <tbody>\n",
       "    <tr>\n",
       "      <th>0</th>\n",
       "      <td>68</td>\n",
       "      <td>2</td>\n",
       "      <td>1</td>\n",
       "      <td>0</td>\n",
       "      <td>0</td>\n",
       "      <td>0</td>\n",
       "      <td>1</td>\n",
       "      <td>3</td>\n",
       "      <td>1</td>\n",
       "      <td>4</td>\n",
       "      <td>1</td>\n",
       "      <td>1</td>\n",
       "      <td>24</td>\n",
       "      <td>1</td>\n",
       "      <td>60</td>\n",
       "      <td>0</td>\n",
       "    </tr>\n",
       "    <tr>\n",
       "      <th>1</th>\n",
       "      <td>50</td>\n",
       "      <td>2</td>\n",
       "      <td>1</td>\n",
       "      <td>1</td>\n",
       "      <td>1</td>\n",
       "      <td>2</td>\n",
       "      <td>0</td>\n",
       "      <td>2</td>\n",
       "      <td>1</td>\n",
       "      <td>35</td>\n",
       "      <td>1</td>\n",
       "      <td>1</td>\n",
       "      <td>14</td>\n",
       "      <td>5</td>\n",
       "      <td>62</td>\n",
       "      <td>0</td>\n",
       "    </tr>\n",
       "    <tr>\n",
       "      <th>2</th>\n",
       "      <td>58</td>\n",
       "      <td>2</td>\n",
       "      <td>0</td>\n",
       "      <td>2</td>\n",
       "      <td>2</td>\n",
       "      <td>4</td>\n",
       "      <td>0</td>\n",
       "      <td>2</td>\n",
       "      <td>1</td>\n",
       "      <td>63</td>\n",
       "      <td>1</td>\n",
       "      <td>1</td>\n",
       "      <td>14</td>\n",
       "      <td>7</td>\n",
       "      <td>75</td>\n",
       "      <td>0</td>\n",
       "    </tr>\n",
       "    <tr>\n",
       "      <th>3</th>\n",
       "      <td>58</td>\n",
       "      <td>2</td>\n",
       "      <td>1</td>\n",
       "      <td>0</td>\n",
       "      <td>0</td>\n",
       "      <td>0</td>\n",
       "      <td>1</td>\n",
       "      <td>3</td>\n",
       "      <td>1</td>\n",
       "      <td>18</td>\n",
       "      <td>1</td>\n",
       "      <td>1</td>\n",
       "      <td>2</td>\n",
       "      <td>1</td>\n",
       "      <td>84</td>\n",
       "      <td>0</td>\n",
       "    </tr>\n",
       "    <tr>\n",
       "      <th>4</th>\n",
       "      <td>47</td>\n",
       "      <td>2</td>\n",
       "      <td>1</td>\n",
       "      <td>1</td>\n",
       "      <td>0</td>\n",
       "      <td>1</td>\n",
       "      <td>1</td>\n",
       "      <td>3</td>\n",
       "      <td>1</td>\n",
       "      <td>41</td>\n",
       "      <td>1</td>\n",
       "      <td>1</td>\n",
       "      <td>3</td>\n",
       "      <td>1</td>\n",
       "      <td>50</td>\n",
       "      <td>0</td>\n",
       "    </tr>\n",
       "    <tr>\n",
       "      <th>...</th>\n",
       "      <td>...</td>\n",
       "      <td>...</td>\n",
       "      <td>...</td>\n",
       "      <td>...</td>\n",
       "      <td>...</td>\n",
       "      <td>...</td>\n",
       "      <td>...</td>\n",
       "      <td>...</td>\n",
       "      <td>...</td>\n",
       "      <td>...</td>\n",
       "      <td>...</td>\n",
       "      <td>...</td>\n",
       "      <td>...</td>\n",
       "      <td>...</td>\n",
       "      <td>...</td>\n",
       "      <td>...</td>\n",
       "    </tr>\n",
       "    <tr>\n",
       "      <th>4019</th>\n",
       "      <td>62</td>\n",
       "      <td>1</td>\n",
       "      <td>1</td>\n",
       "      <td>0</td>\n",
       "      <td>0</td>\n",
       "      <td>0</td>\n",
       "      <td>0</td>\n",
       "      <td>2</td>\n",
       "      <td>1</td>\n",
       "      <td>9</td>\n",
       "      <td>1</td>\n",
       "      <td>1</td>\n",
       "      <td>1</td>\n",
       "      <td>1</td>\n",
       "      <td>49</td>\n",
       "      <td>0</td>\n",
       "    </tr>\n",
       "    <tr>\n",
       "      <th>4020</th>\n",
       "      <td>56</td>\n",
       "      <td>2</td>\n",
       "      <td>0</td>\n",
       "      <td>1</td>\n",
       "      <td>1</td>\n",
       "      <td>2</td>\n",
       "      <td>0</td>\n",
       "      <td>2</td>\n",
       "      <td>1</td>\n",
       "      <td>46</td>\n",
       "      <td>1</td>\n",
       "      <td>1</td>\n",
       "      <td>14</td>\n",
       "      <td>8</td>\n",
       "      <td>69</td>\n",
       "      <td>0</td>\n",
       "    </tr>\n",
       "    <tr>\n",
       "      <th>4021</th>\n",
       "      <td>68</td>\n",
       "      <td>2</td>\n",
       "      <td>1</td>\n",
       "      <td>1</td>\n",
       "      <td>0</td>\n",
       "      <td>1</td>\n",
       "      <td>0</td>\n",
       "      <td>2</td>\n",
       "      <td>1</td>\n",
       "      <td>22</td>\n",
       "      <td>1</td>\n",
       "      <td>0</td>\n",
       "      <td>11</td>\n",
       "      <td>3</td>\n",
       "      <td>69</td>\n",
       "      <td>0</td>\n",
       "    </tr>\n",
       "    <tr>\n",
       "      <th>4022</th>\n",
       "      <td>58</td>\n",
       "      <td>0</td>\n",
       "      <td>0</td>\n",
       "      <td>1</td>\n",
       "      <td>0</td>\n",
       "      <td>1</td>\n",
       "      <td>0</td>\n",
       "      <td>2</td>\n",
       "      <td>1</td>\n",
       "      <td>44</td>\n",
       "      <td>1</td>\n",
       "      <td>1</td>\n",
       "      <td>11</td>\n",
       "      <td>1</td>\n",
       "      <td>72</td>\n",
       "      <td>0</td>\n",
       "    </tr>\n",
       "    <tr>\n",
       "      <th>4023</th>\n",
       "      <td>46</td>\n",
       "      <td>2</td>\n",
       "      <td>1</td>\n",
       "      <td>1</td>\n",
       "      <td>0</td>\n",
       "      <td>1</td>\n",
       "      <td>0</td>\n",
       "      <td>2</td>\n",
       "      <td>1</td>\n",
       "      <td>30</td>\n",
       "      <td>1</td>\n",
       "      <td>1</td>\n",
       "      <td>7</td>\n",
       "      <td>2</td>\n",
       "      <td>100</td>\n",
       "      <td>0</td>\n",
       "    </tr>\n",
       "  </tbody>\n",
       "</table>\n",
       "<p>4024 rows × 16 columns</p>\n",
       "</div>"
      ],
      "text/plain": [
       "      Age  Race  Marital Status  T Stage   N Stage  6th Stage  differentiate  \\\n",
       "0      68     2               1         0        0          0              1   \n",
       "1      50     2               1         1        1          2              0   \n",
       "2      58     2               0         2        2          4              0   \n",
       "3      58     2               1         0        0          0              1   \n",
       "4      47     2               1         1        0          1              1   \n",
       "...   ...   ...             ...       ...      ...        ...            ...   \n",
       "4019   62     1               1         0        0          0              0   \n",
       "4020   56     2               0         1        1          2              0   \n",
       "4021   68     2               1         1        0          1              0   \n",
       "4022   58     0               0         1        0          1              0   \n",
       "4023   46     2               1         1        0          1              0   \n",
       "\n",
       "      Grade  A Stage  Tumor Size  Estrogen Status  Progesterone Status  \\\n",
       "0         3        1           4                1                    1   \n",
       "1         2        1          35                1                    1   \n",
       "2         2        1          63                1                    1   \n",
       "3         3        1          18                1                    1   \n",
       "4         3        1          41                1                    1   \n",
       "...     ...      ...         ...              ...                  ...   \n",
       "4019      2        1           9                1                    1   \n",
       "4020      2        1          46                1                    1   \n",
       "4021      2        1          22                1                    0   \n",
       "4022      2        1          44                1                    1   \n",
       "4023      2        1          30                1                    1   \n",
       "\n",
       "      Regional Node Examined  Reginol Node Positive  Survival Months  Status  \n",
       "0                         24                      1               60       0  \n",
       "1                         14                      5               62       0  \n",
       "2                         14                      7               75       0  \n",
       "3                          2                      1               84       0  \n",
       "4                          3                      1               50       0  \n",
       "...                      ...                    ...              ...     ...  \n",
       "4019                       1                      1               49       0  \n",
       "4020                      14                      8               69       0  \n",
       "4021                      11                      3               69       0  \n",
       "4022                      11                      1               72       0  \n",
       "4023                       7                      2              100       0  \n",
       "\n",
       "[4024 rows x 16 columns]"
      ]
     },
     "execution_count": 189,
     "metadata": {},
     "output_type": "execute_result"
    }
   ],
   "source": [
    "df['Race']= label_encoder.fit_transform(df['Race'])\n",
    "df['Marital Status']= label_encoder.fit_transform(df['Marital Status'])\n",
    "df['T Stage ']= label_encoder.fit_transform(df['T Stage '])\n",
    "df['N Stage']= label_encoder.fit_transform(df['N Stage'])\n",
    "df['6th Stage']= label_encoder.fit_transform(df['6th Stage'])\n",
    "df['differentiate']= label_encoder.fit_transform(df['differentiate'])\n",
    "df['Grade']= label_encoder.fit_transform(df['Grade'])\n",
    "df['A Stage']= label_encoder.fit_transform(df['A Stage'])\n",
    "df['Estrogen Status']= label_encoder.fit_transform(df['Estrogen Status'])\n",
    "df['Progesterone Status']= label_encoder.fit_transform(df['Progesterone Status'])\n",
    "df['Status']= label_encoder.fit_transform(df['Status'])\n",
    "df"
   ]
  },
  {
   "cell_type": "code",
   "execution_count": 190,
   "id": "cecbd22c",
   "metadata": {},
   "outputs": [
    {
     "data": {
      "text/plain": [
       "Age                       int64\n",
       "Race                      int32\n",
       "Marital Status            int32\n",
       "T Stage                   int32\n",
       "N Stage                   int32\n",
       "6th Stage                 int32\n",
       "differentiate             int32\n",
       "Grade                     int32\n",
       "A Stage                   int32\n",
       "Tumor Size                int64\n",
       "Estrogen Status           int32\n",
       "Progesterone Status       int32\n",
       "Regional Node Examined    int64\n",
       "Reginol Node Positive     int64\n",
       "Survival Months           int64\n",
       "Status                    int32\n",
       "dtype: object"
      ]
     },
     "execution_count": 190,
     "metadata": {},
     "output_type": "execute_result"
    }
   ],
   "source": [
    "df.dtypes"
   ]
  },
  {
   "cell_type": "code",
   "execution_count": 191,
   "id": "50a9a796",
   "metadata": {},
   "outputs": [
    {
     "data": {
      "text/html": [
       "<div>\n",
       "<style scoped>\n",
       "    .dataframe tbody tr th:only-of-type {\n",
       "        vertical-align: middle;\n",
       "    }\n",
       "\n",
       "    .dataframe tbody tr th {\n",
       "        vertical-align: top;\n",
       "    }\n",
       "\n",
       "    .dataframe thead th {\n",
       "        text-align: right;\n",
       "    }\n",
       "</style>\n",
       "<table border=\"1\" class=\"dataframe\">\n",
       "  <thead>\n",
       "    <tr style=\"text-align: right;\">\n",
       "      <th></th>\n",
       "      <th>Age</th>\n",
       "      <th>Race</th>\n",
       "      <th>Marital Status</th>\n",
       "      <th>T Stage</th>\n",
       "      <th>N Stage</th>\n",
       "      <th>6th Stage</th>\n",
       "      <th>differentiate</th>\n",
       "      <th>Grade</th>\n",
       "      <th>A Stage</th>\n",
       "      <th>Tumor Size</th>\n",
       "      <th>Estrogen Status</th>\n",
       "      <th>Progesterone Status</th>\n",
       "      <th>Regional Node Examined</th>\n",
       "      <th>Reginol Node Positive</th>\n",
       "      <th>Survival Months</th>\n",
       "      <th>Status</th>\n",
       "    </tr>\n",
       "  </thead>\n",
       "  <tbody>\n",
       "    <tr>\n",
       "      <th>count</th>\n",
       "      <td>4024.000000</td>\n",
       "      <td>4024.000000</td>\n",
       "      <td>4024.000000</td>\n",
       "      <td>4024.000000</td>\n",
       "      <td>4024.000000</td>\n",
       "      <td>4024.000000</td>\n",
       "      <td>4024.000000</td>\n",
       "      <td>4024.000000</td>\n",
       "      <td>4024.000000</td>\n",
       "      <td>4024.000000</td>\n",
       "      <td>4024.000000</td>\n",
       "      <td>4024.000000</td>\n",
       "      <td>4024.000000</td>\n",
       "      <td>4024.000000</td>\n",
       "      <td>4024.000000</td>\n",
       "      <td>4024.000000</td>\n",
       "    </tr>\n",
       "    <tr>\n",
       "      <th>mean</th>\n",
       "      <td>53.972167</td>\n",
       "      <td>1.775845</td>\n",
       "      <td>1.371272</td>\n",
       "      <td>0.784791</td>\n",
       "      <td>0.438370</td>\n",
       "      <td>1.321819</td>\n",
       "      <td>0.690358</td>\n",
       "      <td>2.131710</td>\n",
       "      <td>0.977137</td>\n",
       "      <td>30.473658</td>\n",
       "      <td>0.933151</td>\n",
       "      <td>0.826541</td>\n",
       "      <td>14.357107</td>\n",
       "      <td>4.158052</td>\n",
       "      <td>71.297962</td>\n",
       "      <td>0.153082</td>\n",
       "    </tr>\n",
       "    <tr>\n",
       "      <th>std</th>\n",
       "      <td>8.963134</td>\n",
       "      <td>0.564465</td>\n",
       "      <td>1.063637</td>\n",
       "      <td>0.765531</td>\n",
       "      <td>0.693479</td>\n",
       "      <td>1.266624</td>\n",
       "      <td>1.016418</td>\n",
       "      <td>0.642398</td>\n",
       "      <td>0.149485</td>\n",
       "      <td>21.119696</td>\n",
       "      <td>0.249791</td>\n",
       "      <td>0.378691</td>\n",
       "      <td>8.099675</td>\n",
       "      <td>5.109331</td>\n",
       "      <td>22.921430</td>\n",
       "      <td>0.360111</td>\n",
       "    </tr>\n",
       "    <tr>\n",
       "      <th>min</th>\n",
       "      <td>30.000000</td>\n",
       "      <td>0.000000</td>\n",
       "      <td>0.000000</td>\n",
       "      <td>0.000000</td>\n",
       "      <td>0.000000</td>\n",
       "      <td>0.000000</td>\n",
       "      <td>0.000000</td>\n",
       "      <td>0.000000</td>\n",
       "      <td>0.000000</td>\n",
       "      <td>1.000000</td>\n",
       "      <td>0.000000</td>\n",
       "      <td>0.000000</td>\n",
       "      <td>1.000000</td>\n",
       "      <td>1.000000</td>\n",
       "      <td>1.000000</td>\n",
       "      <td>0.000000</td>\n",
       "    </tr>\n",
       "    <tr>\n",
       "      <th>25%</th>\n",
       "      <td>47.000000</td>\n",
       "      <td>2.000000</td>\n",
       "      <td>1.000000</td>\n",
       "      <td>0.000000</td>\n",
       "      <td>0.000000</td>\n",
       "      <td>0.000000</td>\n",
       "      <td>0.000000</td>\n",
       "      <td>2.000000</td>\n",
       "      <td>1.000000</td>\n",
       "      <td>16.000000</td>\n",
       "      <td>1.000000</td>\n",
       "      <td>1.000000</td>\n",
       "      <td>9.000000</td>\n",
       "      <td>1.000000</td>\n",
       "      <td>56.000000</td>\n",
       "      <td>0.000000</td>\n",
       "    </tr>\n",
       "    <tr>\n",
       "      <th>50%</th>\n",
       "      <td>54.000000</td>\n",
       "      <td>2.000000</td>\n",
       "      <td>1.000000</td>\n",
       "      <td>1.000000</td>\n",
       "      <td>0.000000</td>\n",
       "      <td>1.000000</td>\n",
       "      <td>0.000000</td>\n",
       "      <td>2.000000</td>\n",
       "      <td>1.000000</td>\n",
       "      <td>25.000000</td>\n",
       "      <td>1.000000</td>\n",
       "      <td>1.000000</td>\n",
       "      <td>14.000000</td>\n",
       "      <td>2.000000</td>\n",
       "      <td>73.000000</td>\n",
       "      <td>0.000000</td>\n",
       "    </tr>\n",
       "    <tr>\n",
       "      <th>75%</th>\n",
       "      <td>61.000000</td>\n",
       "      <td>2.000000</td>\n",
       "      <td>1.000000</td>\n",
       "      <td>1.000000</td>\n",
       "      <td>1.000000</td>\n",
       "      <td>2.000000</td>\n",
       "      <td>1.000000</td>\n",
       "      <td>3.000000</td>\n",
       "      <td>1.000000</td>\n",
       "      <td>38.000000</td>\n",
       "      <td>1.000000</td>\n",
       "      <td>1.000000</td>\n",
       "      <td>19.000000</td>\n",
       "      <td>5.000000</td>\n",
       "      <td>90.000000</td>\n",
       "      <td>0.000000</td>\n",
       "    </tr>\n",
       "    <tr>\n",
       "      <th>max</th>\n",
       "      <td>69.000000</td>\n",
       "      <td>2.000000</td>\n",
       "      <td>4.000000</td>\n",
       "      <td>3.000000</td>\n",
       "      <td>2.000000</td>\n",
       "      <td>4.000000</td>\n",
       "      <td>3.000000</td>\n",
       "      <td>3.000000</td>\n",
       "      <td>1.000000</td>\n",
       "      <td>140.000000</td>\n",
       "      <td>1.000000</td>\n",
       "      <td>1.000000</td>\n",
       "      <td>61.000000</td>\n",
       "      <td>46.000000</td>\n",
       "      <td>107.000000</td>\n",
       "      <td>1.000000</td>\n",
       "    </tr>\n",
       "  </tbody>\n",
       "</table>\n",
       "</div>"
      ],
      "text/plain": [
       "               Age         Race  Marital Status     T Stage       N Stage  \\\n",
       "count  4024.000000  4024.000000     4024.000000  4024.000000  4024.000000   \n",
       "mean     53.972167     1.775845        1.371272     0.784791     0.438370   \n",
       "std       8.963134     0.564465        1.063637     0.765531     0.693479   \n",
       "min      30.000000     0.000000        0.000000     0.000000     0.000000   \n",
       "25%      47.000000     2.000000        1.000000     0.000000     0.000000   \n",
       "50%      54.000000     2.000000        1.000000     1.000000     0.000000   \n",
       "75%      61.000000     2.000000        1.000000     1.000000     1.000000   \n",
       "max      69.000000     2.000000        4.000000     3.000000     2.000000   \n",
       "\n",
       "         6th Stage  differentiate        Grade      A Stage   Tumor Size  \\\n",
       "count  4024.000000    4024.000000  4024.000000  4024.000000  4024.000000   \n",
       "mean      1.321819       0.690358     2.131710     0.977137    30.473658   \n",
       "std       1.266624       1.016418     0.642398     0.149485    21.119696   \n",
       "min       0.000000       0.000000     0.000000     0.000000     1.000000   \n",
       "25%       0.000000       0.000000     2.000000     1.000000    16.000000   \n",
       "50%       1.000000       0.000000     2.000000     1.000000    25.000000   \n",
       "75%       2.000000       1.000000     3.000000     1.000000    38.000000   \n",
       "max       4.000000       3.000000     3.000000     1.000000   140.000000   \n",
       "\n",
       "       Estrogen Status  Progesterone Status  Regional Node Examined  \\\n",
       "count      4024.000000          4024.000000             4024.000000   \n",
       "mean          0.933151             0.826541               14.357107   \n",
       "std           0.249791             0.378691                8.099675   \n",
       "min           0.000000             0.000000                1.000000   \n",
       "25%           1.000000             1.000000                9.000000   \n",
       "50%           1.000000             1.000000               14.000000   \n",
       "75%           1.000000             1.000000               19.000000   \n",
       "max           1.000000             1.000000               61.000000   \n",
       "\n",
       "       Reginol Node Positive  Survival Months       Status  \n",
       "count            4024.000000      4024.000000  4024.000000  \n",
       "mean                4.158052        71.297962     0.153082  \n",
       "std                 5.109331        22.921430     0.360111  \n",
       "min                 1.000000         1.000000     0.000000  \n",
       "25%                 1.000000        56.000000     0.000000  \n",
       "50%                 2.000000        73.000000     0.000000  \n",
       "75%                 5.000000        90.000000     0.000000  \n",
       "max                46.000000       107.000000     1.000000  "
      ]
     },
     "execution_count": 191,
     "metadata": {},
     "output_type": "execute_result"
    }
   ],
   "source": [
    "df.describe()"
   ]
  },
  {
   "cell_type": "markdown",
   "id": "2e294e21",
   "metadata": {},
   "source": [
    "# Visualization"
   ]
  },
  {
   "cell_type": "code",
   "execution_count": 303,
   "id": "f4511206",
   "metadata": {},
   "outputs": [
    {
     "data": {
      "text/plain": [
       "array([[<AxesSubplot:title={'center':'Age'}>,\n",
       "        <AxesSubplot:title={'center':'Race'}>,\n",
       "        <AxesSubplot:title={'center':'Marital Status'}>,\n",
       "        <AxesSubplot:title={'center':'T Stage '}>],\n",
       "       [<AxesSubplot:title={'center':'N Stage'}>,\n",
       "        <AxesSubplot:title={'center':'6th Stage'}>,\n",
       "        <AxesSubplot:title={'center':'differentiate'}>,\n",
       "        <AxesSubplot:title={'center':'Grade'}>],\n",
       "       [<AxesSubplot:title={'center':'A Stage'}>,\n",
       "        <AxesSubplot:title={'center':'Tumor Size'}>,\n",
       "        <AxesSubplot:title={'center':'Estrogen Status'}>,\n",
       "        <AxesSubplot:title={'center':'Progesterone Status'}>],\n",
       "       [<AxesSubplot:title={'center':'Regional Node Examined'}>,\n",
       "        <AxesSubplot:title={'center':'Reginol Node Positive'}>,\n",
       "        <AxesSubplot:title={'center':'Survival Months'}>,\n",
       "        <AxesSubplot:title={'center':'Status'}>]], dtype=object)"
      ]
     },
     "execution_count": 303,
     "metadata": {},
     "output_type": "execute_result"
    },
    {
     "data": {
      "image/png": "[encoded data removed]",
      "text/plain": [
       "<Figure size 1080x1080 with 16 Axes>"
      ]
     },
     "metadata": {
      "needs_background": "light"
     },
     "output_type": "display_data"
    }
   ],
   "source": [
    "df.hist(figsize = (15,15))"
   ]
  },
  {
   "cell_type": "code",
   "execution_count": 193,
   "id": "86a5b053",
   "metadata": {},
   "outputs": [
    {
     "data": {
      "text/plain": [
       "<matplotlib.legend.Legend at 0x2753047b070>"
      ]
     },
     "execution_count": 193,
     "metadata": {},
     "output_type": "execute_result"
    },
    {
     "data": {
      "image/png": "[encoded data removed]",
      "text/plain": [
       "<Figure size 720x1440 with 1 Axes>"
      ]
     },
     "metadata": {},
     "output_type": "display_data"
    }
   ],
   "source": [
    "plt.figure(figsize = (10,20))\n",
    "plt.pie(df['Race'].value_counts(), labels=Race, colors=['#fee3d6', '#fb7050', '#67000d'], startangle=180,\n",
    "        shadow = True, autopct = '%.1f%%', explode = [0.1,0.1,0.1], textprops={'fontsize': 14})\n",
    "plt.legend()"
   ]
  },
  {
   "cell_type": "code",
   "execution_count": 194,
   "id": "8cb6e537",
   "metadata": {},
   "outputs": [
    {
     "data": {
      "text/plain": [
       "<matplotlib.legend.Legend at 0x27530473160>"
      ]
     },
     "execution_count": 194,
     "metadata": {},
     "output_type": "execute_result"
    },
    {
     "data": {
      "image/png": "[encoded data removed]",
      "text/plain": [
       "<Figure size 720x1440 with 1 Axes>"
      ]
     },
     "metadata": {},
     "output_type": "display_data"
    }
   ],
   "source": [
    "plt.figure(figsize = (10,20))\n",
    "plt.pie(df['Marital Status'].value_counts(), labels= Marital_Status, colors=['#c9171d', '#fb7050', '#fb7151', '#67000d', 'red'], startangle=180,\n",
    "        shadow = True, autopct = '%.1f%%', explode = [0.1,0.1,0.2,0.2,0.1], textprops={'fontsize': 14})\n",
    "plt.legend()"
   ]
  },
  {
   "cell_type": "code",
   "execution_count": 195,
   "id": "626ffb6a",
   "metadata": {},
   "outputs": [
    {
     "data": {
      "text/plain": [
       "<matplotlib.legend.Legend at 0x27530001430>"
      ]
     },
     "execution_count": 195,
     "metadata": {},
     "output_type": "execute_result"
    },
    {
     "data": {
      "image/png": "[encoded data removed]",
      "text/plain": [
       "<Figure size 720x1440 with 1 Axes>"
      ]
     },
     "metadata": {},
     "output_type": "display_data"
    }
   ],
   "source": [
    "plt.figure(figsize = (10,20))\n",
    "plt.pie(df['Status'].value_counts(), labels=Status, colors=['#c9171d', '#fb7050'], startangle=180,\n",
    "        shadow = True, autopct = '%.1f%%', textprops={'fontsize': 14}, explode = {0.1, 0})\n",
    "plt.legend()"
   ]
  },
  {
   "cell_type": "code",
   "execution_count": 196,
   "id": "3ab03233",
   "metadata": {},
   "outputs": [
    {
     "data": {
      "text/plain": [
       "<matplotlib.legend.Legend at 0x2752fff5d60>"
      ]
     },
     "execution_count": 196,
     "metadata": {},
     "output_type": "execute_result"
    },
    {
     "data": {
      "image/png": "[encoded data removed]",
      "text/plain": [
       "<Figure size 720x1440 with 1 Axes>"
      ]
     },
     "metadata": {},
     "output_type": "display_data"
    }
   ],
   "source": [
    "plt.figure(figsize = (10,20))\n",
    "plt.pie(df['Grade'].value_counts(), labels=Grade, colors=['#c9171d', 'red', '#fb7151', '#67000d'], startangle=180,\n",
    "        shadow = True, autopct = '%.1f%%', explode = [0.1,0.1,0.1,0.1], textprops={'fontsize': 14})\n",
    "plt.legend()"
   ]
  },
  {
   "cell_type": "code",
   "execution_count": 197,
   "id": "9698864d",
   "metadata": {},
   "outputs": [
    {
     "data": {
      "text/plain": [
       "<matplotlib.legend.Legend at 0x27530461ac0>"
      ]
     },
     "execution_count": 197,
     "metadata": {},
     "output_type": "execute_result"
    },
    {
     "data": {
      "image/png": "[encoded data removed]",
      "text/plain": [
       "<Figure size 720x1440 with 1 Axes>"
      ]
     },
     "metadata": {},
     "output_type": "display_data"
    }
   ],
   "source": [
    "plt.figure(figsize = (10,20))\n",
    "plt.pie(df['6th Stage'].value_counts(), labels=sixth_Stage, colors=['#c9171d', '#fb7050', '#fb7151', '#67000d', 'red'], startangle=180,\n",
    "        shadow = True, labeldistance=.4, autopct = '%.1f%%', explode = [0.1,0.1,0.2,0.2,0.1], textprops={'fontsize': 14, 'color': 'white'})\n",
    "plt.legend()"
   ]
  },
  {
   "cell_type": "code",
   "execution_count": 198,
   "id": "416b48cb",
   "metadata": {},
   "outputs": [
    {
     "data": {
      "text/plain": [
       "<matplotlib.legend.Legend at 0x275303836a0>"
      ]
     },
     "execution_count": 198,
     "metadata": {},
     "output_type": "execute_result"
    },
    {
     "data": {
      "image/png": "[encoded data removed]",
      "text/plain": [
       "<Figure size 720x1440 with 1 Axes>"
      ]
     },
     "metadata": {},
     "output_type": "display_data"
    }
   ],
   "source": [
    "plt.figure(figsize = (10,20))\n",
    "plt.pie(df['N Stage'].value_counts(), labels=N_Stage, colors=['#c9171d', '#fb7050', '#67000d'], startangle=180,\n",
    "        shadow = True, labeldistance=.4, autopct = '%.1f%%', explode = [0.1,0.1,0.1], textprops={'fontsize': 14, 'color': 'white'})\n",
    "plt.legend()"
   ]
  },
  {
   "cell_type": "code",
   "execution_count": 199,
   "id": "9b3a0cf1",
   "metadata": {},
   "outputs": [
    {
     "data": {
      "text/plain": [
       "<matplotlib.legend.Legend at 0x27530ae9ac0>"
      ]
     },
     "execution_count": 199,
     "metadata": {},
     "output_type": "execute_result"
    },
    {
     "data": {
      "image/png": "[encoded data removed]",
      "text/plain": [
       "<Figure size 720x1440 with 1 Axes>"
      ]
     },
     "metadata": {},
     "output_type": "display_data"
    }
   ],
   "source": [
    "plt.figure(figsize = (10,20))\n",
    "plt.pie(df['T Stage '].value_counts(), labels=T_Stage, colors=['#c9171d', '#fb7050', '#fb7151', '#67000d'], startangle=180,\n",
    "        shadow = True, labeldistance=.4, autopct = '%.1f%%', explode = [0.1,0.1,0.2,0.2], textprops={'fontsize': 14, 'color': 'white'})\n",
    "plt.legend()"
   ]
  },
  {
   "cell_type": "code",
   "execution_count": 200,
   "id": "50873020",
   "metadata": {},
   "outputs": [
    {
     "data": {
      "text/plain": [
       "<matplotlib.legend.Legend at 0x27530af7670>"
      ]
     },
     "execution_count": 200,
     "metadata": {},
     "output_type": "execute_result"
    },
    {
     "data": {
      "image/png": "[encoded data removed]",
      "text/plain": [
       "<Figure size 720x1440 with 1 Axes>"
      ]
     },
     "metadata": {},
     "output_type": "display_data"
    }
   ],
   "source": [
    "plt.figure(figsize = (10,20))\n",
    "plt.pie(df['A Stage'].value_counts(), labels=A_Stage, colors=['#c9171d', '#fb7050'], startangle=180,\n",
    "        shadow = True, autopct = '%.1f%%', textprops={'fontsize': 14}, explode = {0, 0.6})\n",
    "plt.legend()"
   ]
  },
  {
   "cell_type": "markdown",
   "id": "918c42da",
   "metadata": {},
   "source": [
    "## Find Correlation between features"
   ]
  },
  {
   "cell_type": "code",
   "execution_count": 201,
   "id": "defd2970",
   "metadata": {},
   "outputs": [
    {
     "data": {
      "text/html": [
       "<div>\n",
       "<style scoped>\n",
       "    .dataframe tbody tr th:only-of-type {\n",
       "        vertical-align: middle;\n",
       "    }\n",
       "\n",
       "    .dataframe tbody tr th {\n",
       "        vertical-align: top;\n",
       "    }\n",
       "\n",
       "    .dataframe thead th {\n",
       "        text-align: right;\n",
       "    }\n",
       "</style>\n",
       "<table border=\"1\" class=\"dataframe\">\n",
       "  <thead>\n",
       "    <tr style=\"text-align: right;\">\n",
       "      <th></th>\n",
       "      <th>Age</th>\n",
       "      <th>Race</th>\n",
       "      <th>Marital Status</th>\n",
       "      <th>T Stage</th>\n",
       "      <th>N Stage</th>\n",
       "      <th>6th Stage</th>\n",
       "      <th>differentiate</th>\n",
       "      <th>Grade</th>\n",
       "      <th>A Stage</th>\n",
       "      <th>Tumor Size</th>\n",
       "      <th>Estrogen Status</th>\n",
       "      <th>Progesterone Status</th>\n",
       "      <th>Regional Node Examined</th>\n",
       "      <th>Reginol Node Positive</th>\n",
       "      <th>Survival Months</th>\n",
       "      <th>Status</th>\n",
       "    </tr>\n",
       "  </thead>\n",
       "  <tbody>\n",
       "    <tr>\n",
       "      <th>Age</th>\n",
       "      <td>1.000000</td>\n",
       "      <td>0.079734</td>\n",
       "      <td>0.050832</td>\n",
       "      <td>-0.066914</td>\n",
       "      <td>0.002883</td>\n",
       "      <td>-0.018741</td>\n",
       "      <td>0.015697</td>\n",
       "      <td>-0.093216</td>\n",
       "      <td>0.020860</td>\n",
       "      <td>-0.077215</td>\n",
       "      <td>0.059787</td>\n",
       "      <td>-0.021269</td>\n",
       "      <td>-0.033345</td>\n",
       "      <td>0.012586</td>\n",
       "      <td>-0.009390</td>\n",
       "      <td>0.055921</td>\n",
       "    </tr>\n",
       "    <tr>\n",
       "      <th>Race</th>\n",
       "      <td>0.079734</td>\n",
       "      <td>1.000000</td>\n",
       "      <td>-0.111417</td>\n",
       "      <td>0.001082</td>\n",
       "      <td>-0.032125</td>\n",
       "      <td>-0.025282</td>\n",
       "      <td>-0.018759</td>\n",
       "      <td>-0.057032</td>\n",
       "      <td>0.007005</td>\n",
       "      <td>-0.004082</td>\n",
       "      <td>0.057652</td>\n",
       "      <td>0.034351</td>\n",
       "      <td>-0.004778</td>\n",
       "      <td>-0.014604</td>\n",
       "      <td>0.040571</td>\n",
       "      <td>-0.050040</td>\n",
       "    </tr>\n",
       "    <tr>\n",
       "      <th>Marital Status</th>\n",
       "      <td>0.050832</td>\n",
       "      <td>-0.111417</td>\n",
       "      <td>1.000000</td>\n",
       "      <td>0.009318</td>\n",
       "      <td>0.013168</td>\n",
       "      <td>0.002989</td>\n",
       "      <td>0.031639</td>\n",
       "      <td>-0.004283</td>\n",
       "      <td>0.004936</td>\n",
       "      <td>0.007407</td>\n",
       "      <td>-0.017895</td>\n",
       "      <td>-0.013485</td>\n",
       "      <td>-0.004285</td>\n",
       "      <td>0.005849</td>\n",
       "      <td>-0.025593</td>\n",
       "      <td>0.033289</td>\n",
       "    </tr>\n",
       "    <tr>\n",
       "      <th>T Stage</th>\n",
       "      <td>-0.066914</td>\n",
       "      <td>0.001082</td>\n",
       "      <td>0.009318</td>\n",
       "      <td>1.000000</td>\n",
       "      <td>0.277015</td>\n",
       "      <td>0.606711</td>\n",
       "      <td>-0.031355</td>\n",
       "      <td>0.110220</td>\n",
       "      <td>-0.221124</td>\n",
       "      <td>0.809176</td>\n",
       "      <td>-0.060954</td>\n",
       "      <td>-0.057633</td>\n",
       "      <td>0.114102</td>\n",
       "      <td>0.243075</td>\n",
       "      <td>-0.085718</td>\n",
       "      <td>0.154699</td>\n",
       "    </tr>\n",
       "    <tr>\n",
       "      <th>N Stage</th>\n",
       "      <td>0.002883</td>\n",
       "      <td>-0.032125</td>\n",
       "      <td>0.013168</td>\n",
       "      <td>0.277015</td>\n",
       "      <td>1.000000</td>\n",
       "      <td>0.881880</td>\n",
       "      <td>-0.036249</td>\n",
       "      <td>0.148791</td>\n",
       "      <td>-0.260573</td>\n",
       "      <td>0.277905</td>\n",
       "      <td>-0.101995</td>\n",
       "      <td>-0.093723</td>\n",
       "      <td>0.328276</td>\n",
       "      <td>0.838073</td>\n",
       "      <td>-0.139577</td>\n",
       "      <td>0.255772</td>\n",
       "    </tr>\n",
       "    <tr>\n",
       "      <th>6th Stage</th>\n",
       "      <td>-0.018741</td>\n",
       "      <td>-0.025282</td>\n",
       "      <td>0.002989</td>\n",
       "      <td>0.606711</td>\n",
       "      <td>0.881880</td>\n",
       "      <td>1.000000</td>\n",
       "      <td>-0.042286</td>\n",
       "      <td>0.169986</td>\n",
       "      <td>-0.291962</td>\n",
       "      <td>0.513971</td>\n",
       "      <td>-0.105614</td>\n",
       "      <td>-0.101246</td>\n",
       "      <td>0.317219</td>\n",
       "      <td>0.773963</td>\n",
       "      <td>-0.144837</td>\n",
       "      <td>0.257636</td>\n",
       "    </tr>\n",
       "    <tr>\n",
       "      <th>differentiate</th>\n",
       "      <td>0.015697</td>\n",
       "      <td>-0.018759</td>\n",
       "      <td>0.031639</td>\n",
       "      <td>-0.031355</td>\n",
       "      <td>-0.036249</td>\n",
       "      <td>-0.042286</td>\n",
       "      <td>1.000000</td>\n",
       "      <td>-0.365422</td>\n",
       "      <td>-0.008977</td>\n",
       "      <td>-0.028391</td>\n",
       "      <td>-0.021826</td>\n",
       "      <td>0.008957</td>\n",
       "      <td>-0.057248</td>\n",
       "      <td>-0.028339</td>\n",
       "      <td>-0.004500</td>\n",
       "      <td>-0.018513</td>\n",
       "    </tr>\n",
       "    <tr>\n",
       "      <th>Grade</th>\n",
       "      <td>-0.093216</td>\n",
       "      <td>-0.057032</td>\n",
       "      <td>-0.004283</td>\n",
       "      <td>0.110220</td>\n",
       "      <td>0.148791</td>\n",
       "      <td>0.169986</td>\n",
       "      <td>-0.365422</td>\n",
       "      <td>1.000000</td>\n",
       "      <td>-0.043701</td>\n",
       "      <td>0.099539</td>\n",
       "      <td>-0.186770</td>\n",
       "      <td>-0.175816</td>\n",
       "      <td>0.083446</td>\n",
       "      <td>0.122931</td>\n",
       "      <td>-0.058408</td>\n",
       "      <td>0.134170</td>\n",
       "    </tr>\n",
       "    <tr>\n",
       "      <th>A Stage</th>\n",
       "      <td>0.020860</td>\n",
       "      <td>0.007005</td>\n",
       "      <td>0.004936</td>\n",
       "      <td>-0.221124</td>\n",
       "      <td>-0.260573</td>\n",
       "      <td>-0.291962</td>\n",
       "      <td>-0.008977</td>\n",
       "      <td>-0.043701</td>\n",
       "      <td>1.000000</td>\n",
       "      <td>-0.123883</td>\n",
       "      <td>0.065570</td>\n",
       "      <td>0.026530</td>\n",
       "      <td>-0.069010</td>\n",
       "      <td>-0.232849</td>\n",
       "      <td>0.070109</td>\n",
       "      <td>-0.096584</td>\n",
       "    </tr>\n",
       "    <tr>\n",
       "      <th>Tumor Size</th>\n",
       "      <td>-0.077215</td>\n",
       "      <td>-0.004082</td>\n",
       "      <td>0.007407</td>\n",
       "      <td>0.809176</td>\n",
       "      <td>0.277905</td>\n",
       "      <td>0.513971</td>\n",
       "      <td>-0.028391</td>\n",
       "      <td>0.099539</td>\n",
       "      <td>-0.123883</td>\n",
       "      <td>1.000000</td>\n",
       "      <td>-0.059585</td>\n",
       "      <td>-0.069879</td>\n",
       "      <td>0.104352</td>\n",
       "      <td>0.242322</td>\n",
       "      <td>-0.086901</td>\n",
       "      <td>0.134205</td>\n",
       "    </tr>\n",
       "    <tr>\n",
       "      <th>Estrogen Status</th>\n",
       "      <td>0.059787</td>\n",
       "      <td>0.057652</td>\n",
       "      <td>-0.017895</td>\n",
       "      <td>-0.060954</td>\n",
       "      <td>-0.101995</td>\n",
       "      <td>-0.105614</td>\n",
       "      <td>-0.021826</td>\n",
       "      <td>-0.186770</td>\n",
       "      <td>0.065570</td>\n",
       "      <td>-0.059585</td>\n",
       "      <td>1.000000</td>\n",
       "      <td>0.513308</td>\n",
       "      <td>-0.044836</td>\n",
       "      <td>-0.085985</td>\n",
       "      <td>0.128469</td>\n",
       "      <td>-0.184650</td>\n",
       "    </tr>\n",
       "    <tr>\n",
       "      <th>Progesterone Status</th>\n",
       "      <td>-0.021269</td>\n",
       "      <td>0.034351</td>\n",
       "      <td>-0.013485</td>\n",
       "      <td>-0.057633</td>\n",
       "      <td>-0.093723</td>\n",
       "      <td>-0.101246</td>\n",
       "      <td>0.008957</td>\n",
       "      <td>-0.175816</td>\n",
       "      <td>0.026530</td>\n",
       "      <td>-0.069879</td>\n",
       "      <td>0.513308</td>\n",
       "      <td>1.000000</td>\n",
       "      <td>-0.018051</td>\n",
       "      <td>-0.078069</td>\n",
       "      <td>0.096018</td>\n",
       "      <td>-0.177079</td>\n",
       "    </tr>\n",
       "    <tr>\n",
       "      <th>Regional Node Examined</th>\n",
       "      <td>-0.033345</td>\n",
       "      <td>-0.004778</td>\n",
       "      <td>-0.004285</td>\n",
       "      <td>0.114102</td>\n",
       "      <td>0.328276</td>\n",
       "      <td>0.317219</td>\n",
       "      <td>-0.057248</td>\n",
       "      <td>0.083446</td>\n",
       "      <td>-0.069010</td>\n",
       "      <td>0.104352</td>\n",
       "      <td>-0.044836</td>\n",
       "      <td>-0.018051</td>\n",
       "      <td>1.000000</td>\n",
       "      <td>0.411580</td>\n",
       "      <td>-0.022054</td>\n",
       "      <td>0.034772</td>\n",
       "    </tr>\n",
       "    <tr>\n",
       "      <th>Reginol Node Positive</th>\n",
       "      <td>0.012586</td>\n",
       "      <td>-0.014604</td>\n",
       "      <td>0.005849</td>\n",
       "      <td>0.243075</td>\n",
       "      <td>0.838073</td>\n",
       "      <td>0.773963</td>\n",
       "      <td>-0.028339</td>\n",
       "      <td>0.122931</td>\n",
       "      <td>-0.232849</td>\n",
       "      <td>0.242322</td>\n",
       "      <td>-0.085985</td>\n",
       "      <td>-0.078069</td>\n",
       "      <td>0.411580</td>\n",
       "      <td>1.000000</td>\n",
       "      <td>-0.135214</td>\n",
       "      <td>0.256638</td>\n",
       "    </tr>\n",
       "    <tr>\n",
       "      <th>Survival Months</th>\n",
       "      <td>-0.009390</td>\n",
       "      <td>0.040571</td>\n",
       "      <td>-0.025593</td>\n",
       "      <td>-0.085718</td>\n",
       "      <td>-0.139577</td>\n",
       "      <td>-0.144837</td>\n",
       "      <td>-0.004500</td>\n",
       "      <td>-0.058408</td>\n",
       "      <td>0.070109</td>\n",
       "      <td>-0.086901</td>\n",
       "      <td>0.128469</td>\n",
       "      <td>0.096018</td>\n",
       "      <td>-0.022054</td>\n",
       "      <td>-0.135214</td>\n",
       "      <td>1.000000</td>\n",
       "      <td>-0.476514</td>\n",
       "    </tr>\n",
       "    <tr>\n",
       "      <th>Status</th>\n",
       "      <td>0.055921</td>\n",
       "      <td>-0.050040</td>\n",
       "      <td>0.033289</td>\n",
       "      <td>0.154699</td>\n",
       "      <td>0.255772</td>\n",
       "      <td>0.257636</td>\n",
       "      <td>-0.018513</td>\n",
       "      <td>0.134170</td>\n",
       "      <td>-0.096584</td>\n",
       "      <td>0.134205</td>\n",
       "      <td>-0.184650</td>\n",
       "      <td>-0.177079</td>\n",
       "      <td>0.034772</td>\n",
       "      <td>0.256638</td>\n",
       "      <td>-0.476514</td>\n",
       "      <td>1.000000</td>\n",
       "    </tr>\n",
       "  </tbody>\n",
       "</table>\n",
       "</div>"
      ],
      "text/plain": [
       "                             Age      Race  Marital Status  T Stage   \\\n",
       "Age                     1.000000  0.079734        0.050832 -0.066914   \n",
       "Race                    0.079734  1.000000       -0.111417  0.001082   \n",
       "Marital Status          0.050832 -0.111417        1.000000  0.009318   \n",
       "T Stage                -0.066914  0.001082        0.009318  1.000000   \n",
       "N Stage                 0.002883 -0.032125        0.013168  0.277015   \n",
       "6th Stage              -0.018741 -0.025282        0.002989  0.606711   \n",
       "differentiate           0.015697 -0.018759        0.031639 -0.031355   \n",
       "Grade                  -0.093216 -0.057032       -0.004283  0.110220   \n",
       "A Stage                 0.020860  0.007005        0.004936 -0.221124   \n",
       "Tumor Size             -0.077215 -0.004082        0.007407  0.809176   \n",
       "Estrogen Status         0.059787  0.057652       -0.017895 -0.060954   \n",
       "Progesterone Status    -0.021269  0.034351       -0.013485 -0.057633   \n",
       "Regional Node Examined -0.033345 -0.004778       -0.004285  0.114102   \n",
       "Reginol Node Positive   0.012586 -0.014604        0.005849  0.243075   \n",
       "Survival Months        -0.009390  0.040571       -0.025593 -0.085718   \n",
       "Status                  0.055921 -0.050040        0.033289  0.154699   \n",
       "\n",
       "                         N Stage  6th Stage  differentiate     Grade  \\\n",
       "Age                     0.002883  -0.018741       0.015697 -0.093216   \n",
       "Race                   -0.032125  -0.025282      -0.018759 -0.057032   \n",
       "Marital Status          0.013168   0.002989       0.031639 -0.004283   \n",
       "T Stage                 0.277015   0.606711      -0.031355  0.110220   \n",
       "N Stage                 1.000000   0.881880      -0.036249  0.148791   \n",
       "6th Stage               0.881880   1.000000      -0.042286  0.169986   \n",
       "differentiate          -0.036249  -0.042286       1.000000 -0.365422   \n",
       "Grade                   0.148791   0.169986      -0.365422  1.000000   \n",
       "A Stage                -0.260573  -0.291962      -0.008977 -0.043701   \n",
       "Tumor Size              0.277905   0.513971      -0.028391  0.099539   \n",
       "Estrogen Status        -0.101995  -0.105614      -0.021826 -0.186770   \n",
       "Progesterone Status    -0.093723  -0.101246       0.008957 -0.175816   \n",
       "Regional Node Examined  0.328276   0.317219      -0.057248  0.083446   \n",
       "Reginol Node Positive   0.838073   0.773963      -0.028339  0.122931   \n",
       "Survival Months        -0.139577  -0.144837      -0.004500 -0.058408   \n",
       "Status                  0.255772   0.257636      -0.018513  0.134170   \n",
       "\n",
       "                         A Stage  Tumor Size  Estrogen Status  \\\n",
       "Age                     0.020860   -0.077215         0.059787   \n",
       "Race                    0.007005   -0.004082         0.057652   \n",
       "Marital Status          0.004936    0.007407        -0.017895   \n",
       "T Stage                -0.221124    0.809176        -0.060954   \n",
       "N Stage                -0.260573    0.277905        -0.101995   \n",
       "6th Stage              -0.291962    0.513971        -0.105614   \n",
       "differentiate          -0.008977   -0.028391        -0.021826   \n",
       "Grade                  -0.043701    0.099539        -0.186770   \n",
       "A Stage                 1.000000   -0.123883         0.065570   \n",
       "Tumor Size             -0.123883    1.000000        -0.059585   \n",
       "Estrogen Status         0.065570   -0.059585         1.000000   \n",
       "Progesterone Status     0.026530   -0.069879         0.513308   \n",
       "Regional Node Examined -0.069010    0.104352        -0.044836   \n",
       "Reginol Node Positive  -0.232849    0.242322        -0.085985   \n",
       "Survival Months         0.070109   -0.086901         0.128469   \n",
       "Status                 -0.096584    0.134205        -0.184650   \n",
       "\n",
       "                        Progesterone Status  Regional Node Examined  \\\n",
       "Age                               -0.021269               -0.033345   \n",
       "Race                               0.034351               -0.004778   \n",
       "Marital Status                    -0.013485               -0.004285   \n",
       "T Stage                           -0.057633                0.114102   \n",
       "N Stage                           -0.093723                0.328276   \n",
       "6th Stage                         -0.101246                0.317219   \n",
       "differentiate                      0.008957               -0.057248   \n",
       "Grade                             -0.175816                0.083446   \n",
       "A Stage                            0.026530               -0.069010   \n",
       "Tumor Size                        -0.069879                0.104352   \n",
       "Estrogen Status                    0.513308               -0.044836   \n",
       "Progesterone Status                1.000000               -0.018051   \n",
       "Regional Node Examined            -0.018051                1.000000   \n",
       "Reginol Node Positive             -0.078069                0.411580   \n",
       "Survival Months                    0.096018               -0.022054   \n",
       "Status                            -0.177079                0.034772   \n",
       "\n",
       "                        Reginol Node Positive  Survival Months    Status  \n",
       "Age                                  0.012586        -0.009390  0.055921  \n",
       "Race                                -0.014604         0.040571 -0.050040  \n",
       "Marital Status                       0.005849        -0.025593  0.033289  \n",
       "T Stage                              0.243075        -0.085718  0.154699  \n",
       "N Stage                              0.838073        -0.139577  0.255772  \n",
       "6th Stage                            0.773963        -0.144837  0.257636  \n",
       "differentiate                       -0.028339        -0.004500 -0.018513  \n",
       "Grade                                0.122931        -0.058408  0.134170  \n",
       "A Stage                             -0.232849         0.070109 -0.096584  \n",
       "Tumor Size                           0.242322        -0.086901  0.134205  \n",
       "Estrogen Status                     -0.085985         0.128469 -0.184650  \n",
       "Progesterone Status                 -0.078069         0.096018 -0.177079  \n",
       "Regional Node Examined               0.411580        -0.022054  0.034772  \n",
       "Reginol Node Positive                1.000000        -0.135214  0.256638  \n",
       "Survival Months                     -0.135214         1.000000 -0.476514  \n",
       "Status                               0.256638        -0.476514  1.000000  "
      ]
     },
     "execution_count": 201,
     "metadata": {},
     "output_type": "execute_result"
    }
   ],
   "source": [
    "df.corr()"
   ]
  },
  {
   "cell_type": "code",
   "execution_count": 202,
   "id": "d33672ea",
   "metadata": {},
   "outputs": [
    {
     "data": {
      "text/plain": [
       "<AxesSubplot:>"
      ]
     },
     "execution_count": 202,
     "metadata": {},
     "output_type": "execute_result"
    },
    {
     "data": {
      "image/png": "[encoded data removed]",
      "text/plain": [
       "<Figure size 1080x576 with 2 Axes>"
      ]
     },
     "metadata": {
      "needs_background": "light"
     },
     "output_type": "display_data"
    }
   ],
   "source": [
    "plt.figure(figsize = (15,8))\n",
    "sns.heatmap(df.corr(),cmap=\"Reds\")"
   ]
  },
  {
   "cell_type": "markdown",
   "id": "c239f1b1",
   "metadata": {},
   "source": [
    "**Observation:**\n",
    "* There are correlations between:\n",
    "    * ( 6th Stage - N Stage )\n",
    "    * ( 6th Stage &  Regional Node Positive )\n",
    "    * ( N Stage - Regional Node Positive ) \n",
    "    * ( T Stage - Tumor Size ) \n",
    "    \n",
    "**Action** \n",
    "* try building model after removing N sstage"
   ]
  },
  {
   "cell_type": "markdown",
   "id": "95d7915b",
   "metadata": {},
   "source": [
    "# Split data"
   ]
  },
  {
   "cell_type": "code",
   "execution_count": 274,
   "id": "95ac5675",
   "metadata": {},
   "outputs": [],
   "source": [
    "from sklearn.model_selection import train_test_split    # Splits The data into four parts for training and testing\n",
    "\n",
    "input_data = df.drop('Status', axis = 1)\n",
    "target_data = df['Status']"
   ]
  },
  {
   "cell_type": "code",
   "execution_count": 275,
   "id": "4b184544",
   "metadata": {},
   "outputs": [],
   "source": [
    "input_train, input_test, target_train, target_test = train_test_split(input_data, target_data,test_size = .2,\n",
    "                                                                      random_state =42)"
   ]
  },
  {
   "cell_type": "markdown",
   "id": "7400f8e4",
   "metadata": {},
   "source": [
    "# 1) Model by data before balancing"
   ]
  },
  {
   "cell_type": "markdown",
   "id": "f7ef1453",
   "metadata": {},
   "source": [
    "## a] Logistic Regression Model"
   ]
  },
  {
   "cell_type": "markdown",
   "id": "70e9fb87",
   "metadata": {},
   "source": [
    "#### Without Hyperparameter tuning:"
   ]
  },
  {
   "cell_type": "code",
   "execution_count": 205,
   "id": "e4afa9ca",
   "metadata": {},
   "outputs": [
    {
     "data": {
      "text/plain": [
       "0.9055900621118013"
      ]
     },
     "execution_count": 205,
     "metadata": {},
     "output_type": "execute_result"
    }
   ],
   "source": [
    "from sklearn.linear_model import LogisticRegression\n",
    "model = LogisticRegression(max_iter=1000)\n",
    "model.fit(input_train, target_train)     #Train the model to gain experiance\n",
    "model.score(input_test, target_test)    #get model accuracy"
   ]
  },
  {
   "cell_type": "markdown",
   "id": "12adbd04",
   "metadata": {},
   "source": [
    "#### With Hyperparameter tuning:"
   ]
  },
  {
   "cell_type": "code",
   "execution_count": 206,
   "id": "fb7b75dc",
   "metadata": {},
   "outputs": [
    {
     "name": "stdout",
     "output_type": "stream",
     "text": [
      "{'C': 10.0, 'penalty': 'l2'} 0.891265648884503\n"
     ]
    }
   ],
   "source": [
    "from sklearn.model_selection import GridSearchCV\n",
    "\n",
    "grid_search = {\"C\":np.logspace(-3,3,7), \"penalty\":[\"none\",\"l2\"]}\n",
    "model = LogisticRegression(solver='lbfgs', max_iter=1000)\n",
    "model_gs = GridSearchCV(estimator = model, param_grid = grid_search, cv = 10, verbose = -1, n_jobs = -1)\n",
    "model_gs.fit(input_train,target_train)\n",
    "model_gs.best_score_\n",
    "\n",
    "print(model_gs.best_params_, model_gs.best_score_)"
   ]
  },
  {
   "cell_type": "markdown",
   "id": "dfb00dfd",
   "metadata": {},
   "source": [
    "## b] SVM (Support Vector Machine) Model"
   ]
  },
  {
   "cell_type": "markdown",
   "id": "c9cef552",
   "metadata": {},
   "source": [
    "#### Without Hyperparameter tuning:"
   ]
  },
  {
   "cell_type": "code",
   "execution_count": 207,
   "id": "d95e4394",
   "metadata": {},
   "outputs": [
    {
     "data": {
      "text/plain": [
       "0.8956521739130435"
      ]
     },
     "execution_count": 207,
     "metadata": {},
     "output_type": "execute_result"
    }
   ],
   "source": [
    "from sklearn.svm import SVC\n",
    "svc_model = SVC()\n",
    "svc_model.fit(input_train, target_train)\n",
    "svc_model.score(input_test, target_test)"
   ]
  },
  {
   "cell_type": "markdown",
   "id": "ce41576a",
   "metadata": {},
   "source": [
    "#### With Hyperparameter tuning:"
   ]
  },
  {
   "cell_type": "code",
   "execution_count": 208,
   "id": "e81d02b5",
   "metadata": {},
   "outputs": [
    {
     "name": "stdout",
     "output_type": "stream",
     "text": [
      "{'C': 1000, 'gamma': 0.0001, 'kernel': 'rbf'} 0.8956163773920783\n"
     ]
    }
   ],
   "source": [
    "from sklearn.model_selection import GridSearchCV\n",
    "\n",
    "grid_search = {'C': [0.1, 1, 10, 100, 1000],\n",
    "              'gamma': [1, 0.1, 0.01, 0.001, 0.0001],\n",
    "              'kernel': ['rbf']}\n",
    "model = SVC()\n",
    "model_gs = GridSearchCV(estimator = model, param_grid = grid_search, cv = 10, verbose = -1, n_jobs = -1)\n",
    "model_gs.fit(input_train,target_train)\n",
    "\n",
    "print(model_gs.best_params_, model_gs.best_score_)"
   ]
  },
  {
   "cell_type": "markdown",
   "id": "81d10555",
   "metadata": {},
   "source": [
    "## c] Tree Model"
   ]
  },
  {
   "cell_type": "markdown",
   "id": "e470ba4b",
   "metadata": {},
   "source": [
    "#### Without Hyperparameter tuning:"
   ]
  },
  {
   "cell_type": "code",
   "execution_count": 209,
   "id": "4afd2528",
   "metadata": {},
   "outputs": [
    {
     "data": {
      "text/plain": [
       "0.8658385093167702"
      ]
     },
     "execution_count": 209,
     "metadata": {},
     "output_type": "execute_result"
    }
   ],
   "source": [
    "from sklearn import tree\n",
    "dtree_model = tree.DecisionTreeClassifier()\n",
    "dtree_model.fit(input_train, target_train)\n",
    "dtree_model.score(input_test, target_test)"
   ]
  },
  {
   "cell_type": "markdown",
   "id": "c7eb2b90",
   "metadata": {},
   "source": [
    "#### With Hyperparameter tuning:"
   ]
  },
  {
   "cell_type": "code",
   "execution_count": 210,
   "id": "190d6009",
   "metadata": {},
   "outputs": [
    {
     "name": "stdout",
     "output_type": "stream",
     "text": [
      "{'ccp_alpha': 0.001, 'criterion': 'gini', 'max_depth': 8, 'max_features': 'log2'} 0.8925107873299666\n"
     ]
    }
   ],
   "source": [
    "from sklearn.model_selection import GridSearchCV\n",
    "\n",
    "grid_search = {'max_features': ['auto', 'sqrt', 'log2'],\n",
    "              'ccp_alpha': [0.1, .01, .001],\n",
    "              'max_depth' : [5, 6, 7, 8, 9],\n",
    "              'criterion' :['gini', 'entropy']}\n",
    "\n",
    "model = tree.DecisionTreeClassifier()\n",
    "model_gs = GridSearchCV(estimator = model, param_grid = grid_search, cv = 10, verbose = -1, n_jobs = -1)\n",
    "model_gs.fit(input_train,target_train)\n",
    "\n",
    "print(model_gs.best_params_, model_gs.best_score_)"
   ]
  },
  {
   "cell_type": "markdown",
   "id": "d30e5610",
   "metadata": {},
   "source": [
    "## d] Random Forest Model"
   ]
  },
  {
   "cell_type": "markdown",
   "id": "ff68ad29",
   "metadata": {},
   "source": [
    "#### Without Hyperparameter tuning:"
   ]
  },
  {
   "cell_type": "code",
   "execution_count": 211,
   "id": "19cd8463",
   "metadata": {},
   "outputs": [
    {
     "data": {
      "text/plain": [
       "0.9118012422360249"
      ]
     },
     "execution_count": 211,
     "metadata": {},
     "output_type": "execute_result"
    }
   ],
   "source": [
    "from sklearn.ensemble import RandomForestClassifier\n",
    "\n",
    "random_forest_model = RandomForestClassifier()\n",
    "random_forest_model.fit(input_train, target_train)\n",
    "random_forest_model.score(input_test, target_test)"
   ]
  },
  {
   "cell_type": "markdown",
   "id": "b269b2fa",
   "metadata": {},
   "source": [
    "#### With Hyperparameter tuning:"
   ]
  },
  {
   "cell_type": "code",
   "execution_count": 279,
   "id": "98bb0de5",
   "metadata": {},
   "outputs": [
    {
     "name": "stdout",
     "output_type": "stream",
     "text": [
      "Fitting 4 folds for each of 120 candidates, totalling 480 fits\n",
      "{'bootstrap': True, 'criterion': 'gini', 'max_depth': 8, 'max_features': 'auto', 'n_estimators': 500} 0.905868174654677\n"
     ]
    }
   ],
   "source": [
    "from sklearn.model_selection import GridSearchCV\n",
    "\n",
    "grid_search = { \n",
    "    'n_estimators': [200, 500],                  # Number of trees in random forest\n",
    "    'max_features': ['auto', 'sqrt', 'log2'],    # Number of features to consider at every split\n",
    "    'max_depth' : [4,5,6,7,8],                   # Maximum number of levels in tree\n",
    "    'criterion' :['gini', 'entropy'],\n",
    "    'bootstrap' : [True, False]                  # Method of selecting samples for training each tree\n",
    "\n",
    "}\n",
    "\n",
    "\n",
    "model = RandomForestClassifier()\n",
    "model_gs = GridSearchCV(estimator = model, param_grid = grid_search, cv = 4, verbose = 2, n_jobs = 4)\n",
    "model_gs.fit(input_train,target_train)\n",
    "\n",
    "print(model_gs.best_params_, model_gs.best_score_)"
   ]
  },
  {
   "cell_type": "markdown",
   "id": "a557c47d",
   "metadata": {},
   "source": [
    "**Observation:**\n",
    "* Max accuracy: Random Forest Model Without tuning ( 91.1% )\n",
    "* Grad Search only increased accuracy for decision tree model ( 86% -> 89% )"
   ]
  },
  {
   "cell_type": "markdown",
   "id": "c9e7d338",
   "metadata": {},
   "source": [
    "# Modeling when Removing N Stage and Regional node positive"
   ]
  },
  {
   "cell_type": "markdown",
   "id": "9eb95c30",
   "metadata": {},
   "source": [
    "**Using Random Forest Without Tuning**"
   ]
  },
  {
   "cell_type": "code",
   "execution_count": 242,
   "id": "1cfdb9eb",
   "metadata": {},
   "outputs": [
    {
     "data": {
      "text/html": [
       "<div>\n",
       "<style scoped>\n",
       "    .dataframe tbody tr th:only-of-type {\n",
       "        vertical-align: middle;\n",
       "    }\n",
       "\n",
       "    .dataframe tbody tr th {\n",
       "        vertical-align: top;\n",
       "    }\n",
       "\n",
       "    .dataframe thead th {\n",
       "        text-align: right;\n",
       "    }\n",
       "</style>\n",
       "<table border=\"1\" class=\"dataframe\">\n",
       "  <thead>\n",
       "    <tr style=\"text-align: right;\">\n",
       "      <th></th>\n",
       "      <th>Age</th>\n",
       "      <th>Race</th>\n",
       "      <th>Marital Status</th>\n",
       "      <th>T Stage</th>\n",
       "      <th>6th Stage</th>\n",
       "      <th>differentiate</th>\n",
       "      <th>Grade</th>\n",
       "      <th>A Stage</th>\n",
       "      <th>Tumor Size</th>\n",
       "      <th>Estrogen Status</th>\n",
       "      <th>Progesterone Status</th>\n",
       "      <th>Regional Node Examined</th>\n",
       "      <th>Survival Months</th>\n",
       "      <th>Status</th>\n",
       "    </tr>\n",
       "  </thead>\n",
       "  <tbody>\n",
       "    <tr>\n",
       "      <th>0</th>\n",
       "      <td>68</td>\n",
       "      <td>2</td>\n",
       "      <td>1</td>\n",
       "      <td>0</td>\n",
       "      <td>0</td>\n",
       "      <td>1</td>\n",
       "      <td>3</td>\n",
       "      <td>1</td>\n",
       "      <td>4</td>\n",
       "      <td>1</td>\n",
       "      <td>1</td>\n",
       "      <td>24</td>\n",
       "      <td>60</td>\n",
       "      <td>0</td>\n",
       "    </tr>\n",
       "    <tr>\n",
       "      <th>1</th>\n",
       "      <td>50</td>\n",
       "      <td>2</td>\n",
       "      <td>1</td>\n",
       "      <td>1</td>\n",
       "      <td>2</td>\n",
       "      <td>0</td>\n",
       "      <td>2</td>\n",
       "      <td>1</td>\n",
       "      <td>35</td>\n",
       "      <td>1</td>\n",
       "      <td>1</td>\n",
       "      <td>14</td>\n",
       "      <td>62</td>\n",
       "      <td>0</td>\n",
       "    </tr>\n",
       "    <tr>\n",
       "      <th>2</th>\n",
       "      <td>58</td>\n",
       "      <td>2</td>\n",
       "      <td>0</td>\n",
       "      <td>2</td>\n",
       "      <td>4</td>\n",
       "      <td>0</td>\n",
       "      <td>2</td>\n",
       "      <td>1</td>\n",
       "      <td>63</td>\n",
       "      <td>1</td>\n",
       "      <td>1</td>\n",
       "      <td>14</td>\n",
       "      <td>75</td>\n",
       "      <td>0</td>\n",
       "    </tr>\n",
       "    <tr>\n",
       "      <th>3</th>\n",
       "      <td>58</td>\n",
       "      <td>2</td>\n",
       "      <td>1</td>\n",
       "      <td>0</td>\n",
       "      <td>0</td>\n",
       "      <td>1</td>\n",
       "      <td>3</td>\n",
       "      <td>1</td>\n",
       "      <td>18</td>\n",
       "      <td>1</td>\n",
       "      <td>1</td>\n",
       "      <td>2</td>\n",
       "      <td>84</td>\n",
       "      <td>0</td>\n",
       "    </tr>\n",
       "    <tr>\n",
       "      <th>4</th>\n",
       "      <td>47</td>\n",
       "      <td>2</td>\n",
       "      <td>1</td>\n",
       "      <td>1</td>\n",
       "      <td>1</td>\n",
       "      <td>1</td>\n",
       "      <td>3</td>\n",
       "      <td>1</td>\n",
       "      <td>41</td>\n",
       "      <td>1</td>\n",
       "      <td>1</td>\n",
       "      <td>3</td>\n",
       "      <td>50</td>\n",
       "      <td>0</td>\n",
       "    </tr>\n",
       "    <tr>\n",
       "      <th>...</th>\n",
       "      <td>...</td>\n",
       "      <td>...</td>\n",
       "      <td>...</td>\n",
       "      <td>...</td>\n",
       "      <td>...</td>\n",
       "      <td>...</td>\n",
       "      <td>...</td>\n",
       "      <td>...</td>\n",
       "      <td>...</td>\n",
       "      <td>...</td>\n",
       "      <td>...</td>\n",
       "      <td>...</td>\n",
       "      <td>...</td>\n",
       "      <td>...</td>\n",
       "    </tr>\n",
       "    <tr>\n",
       "      <th>4019</th>\n",
       "      <td>62</td>\n",
       "      <td>1</td>\n",
       "      <td>1</td>\n",
       "      <td>0</td>\n",
       "      <td>0</td>\n",
       "      <td>0</td>\n",
       "      <td>2</td>\n",
       "      <td>1</td>\n",
       "      <td>9</td>\n",
       "      <td>1</td>\n",
       "      <td>1</td>\n",
       "      <td>1</td>\n",
       "      <td>49</td>\n",
       "      <td>0</td>\n",
       "    </tr>\n",
       "    <tr>\n",
       "      <th>4020</th>\n",
       "      <td>56</td>\n",
       "      <td>2</td>\n",
       "      <td>0</td>\n",
       "      <td>1</td>\n",
       "      <td>2</td>\n",
       "      <td>0</td>\n",
       "      <td>2</td>\n",
       "      <td>1</td>\n",
       "      <td>46</td>\n",
       "      <td>1</td>\n",
       "      <td>1</td>\n",
       "      <td>14</td>\n",
       "      <td>69</td>\n",
       "      <td>0</td>\n",
       "    </tr>\n",
       "    <tr>\n",
       "      <th>4021</th>\n",
       "      <td>68</td>\n",
       "      <td>2</td>\n",
       "      <td>1</td>\n",
       "      <td>1</td>\n",
       "      <td>1</td>\n",
       "      <td>0</td>\n",
       "      <td>2</td>\n",
       "      <td>1</td>\n",
       "      <td>22</td>\n",
       "      <td>1</td>\n",
       "      <td>0</td>\n",
       "      <td>11</td>\n",
       "      <td>69</td>\n",
       "      <td>0</td>\n",
       "    </tr>\n",
       "    <tr>\n",
       "      <th>4022</th>\n",
       "      <td>58</td>\n",
       "      <td>0</td>\n",
       "      <td>0</td>\n",
       "      <td>1</td>\n",
       "      <td>1</td>\n",
       "      <td>0</td>\n",
       "      <td>2</td>\n",
       "      <td>1</td>\n",
       "      <td>44</td>\n",
       "      <td>1</td>\n",
       "      <td>1</td>\n",
       "      <td>11</td>\n",
       "      <td>72</td>\n",
       "      <td>0</td>\n",
       "    </tr>\n",
       "    <tr>\n",
       "      <th>4023</th>\n",
       "      <td>46</td>\n",
       "      <td>2</td>\n",
       "      <td>1</td>\n",
       "      <td>1</td>\n",
       "      <td>1</td>\n",
       "      <td>0</td>\n",
       "      <td>2</td>\n",
       "      <td>1</td>\n",
       "      <td>30</td>\n",
       "      <td>1</td>\n",
       "      <td>1</td>\n",
       "      <td>7</td>\n",
       "      <td>100</td>\n",
       "      <td>0</td>\n",
       "    </tr>\n",
       "  </tbody>\n",
       "</table>\n",
       "<p>4024 rows × 14 columns</p>\n",
       "</div>"
      ],
      "text/plain": [
       "      Age  Race  Marital Status  T Stage   6th Stage  differentiate  Grade  \\\n",
       "0      68     2               1         0          0              1      3   \n",
       "1      50     2               1         1          2              0      2   \n",
       "2      58     2               0         2          4              0      2   \n",
       "3      58     2               1         0          0              1      3   \n",
       "4      47     2               1         1          1              1      3   \n",
       "...   ...   ...             ...       ...        ...            ...    ...   \n",
       "4019   62     1               1         0          0              0      2   \n",
       "4020   56     2               0         1          2              0      2   \n",
       "4021   68     2               1         1          1              0      2   \n",
       "4022   58     0               0         1          1              0      2   \n",
       "4023   46     2               1         1          1              0      2   \n",
       "\n",
       "      A Stage  Tumor Size  Estrogen Status  Progesterone Status  \\\n",
       "0           1           4                1                    1   \n",
       "1           1          35                1                    1   \n",
       "2           1          63                1                    1   \n",
       "3           1          18                1                    1   \n",
       "4           1          41                1                    1   \n",
       "...       ...         ...              ...                  ...   \n",
       "4019        1           9                1                    1   \n",
       "4020        1          46                1                    1   \n",
       "4021        1          22                1                    0   \n",
       "4022        1          44                1                    1   \n",
       "4023        1          30                1                    1   \n",
       "\n",
       "      Regional Node Examined  Survival Months  Status  \n",
       "0                         24               60       0  \n",
       "1                         14               62       0  \n",
       "2                         14               75       0  \n",
       "3                          2               84       0  \n",
       "4                          3               50       0  \n",
       "...                      ...              ...     ...  \n",
       "4019                       1               49       0  \n",
       "4020                      14               69       0  \n",
       "4021                      11               69       0  \n",
       "4022                      11               72       0  \n",
       "4023                       7              100       0  \n",
       "\n",
       "[4024 rows x 14 columns]"
      ]
     },
     "execution_count": 242,
     "metadata": {},
     "output_type": "execute_result"
    }
   ],
   "source": [
    "df_2 = df.drop(['N Stage', 'Reginol Node Positive'], axis = 1)\n",
    "df_2"
   ]
  },
  {
   "cell_type": "code",
   "execution_count": 243,
   "id": "7301fd27",
   "metadata": {},
   "outputs": [
    {
     "data": {
      "text/plain": [
       "0.9130434782608695"
      ]
     },
     "execution_count": 243,
     "metadata": {},
     "output_type": "execute_result"
    }
   ],
   "source": [
    "from sklearn.model_selection import train_test_split    # Splits The data into four parts for training and testing\n",
    "\n",
    "input_data = df_2.drop('Status', axis = 1)\n",
    "target_data = df_2['Status']\n",
    "\n",
    "input_train, input_test, target_train, target_test = train_test_split(input_data, target_data,test_size = .2,\n",
    "                                                                      random_state =42)\n",
    "\n",
    "from sklearn.ensemble import RandomForestClassifier\n",
    "\n",
    "random_forest_model = RandomForestClassifier()\n",
    "random_forest_model.fit(input_train, target_train)\n",
    "random_forest_model.score(input_test, target_test)"
   ]
  },
  {
   "cell_type": "markdown",
   "id": "69ebf584",
   "metadata": {},
   "source": [
    "**Observation:**\n",
    "* The accuracy is nearly the same"
   ]
  },
  {
   "cell_type": "markdown",
   "id": "62ab6973",
   "metadata": {},
   "source": [
    "# 2) Model by data after balancing"
   ]
  },
  {
   "cell_type": "markdown",
   "id": "f6253c23",
   "metadata": {},
   "source": [
    "## a] SMOTE (synthetic minority oversampling technique) \n",
    "**synthetic samples are generated for the minority class to overcome the overfitting problem**"
   ]
  },
  {
   "cell_type": "code",
   "execution_count": 296,
   "id": "f70032ee",
   "metadata": {},
   "outputs": [],
   "source": [
    "from imblearn.over_sampling import SMOTE\n",
    "\n",
    "sm = SMOTE(sampling_strategy='minority',random_state = 2)     # minority ==> resample only the minority class\n",
    "\n",
    "input_train_sm, target_train_sm = sm.fit_resample(input_train, target_train)"
   ]
  },
  {
   "cell_type": "markdown",
   "id": "3740547e",
   "metadata": {},
   "source": [
    "**Comparing between data before and after balancing**"
   ]
  },
  {
   "cell_type": "code",
   "execution_count": 297,
   "id": "80971b3c",
   "metadata": {},
   "outputs": [
    {
     "data": {
      "text/plain": [
       "0    2723\n",
       "1     496\n",
       "Name: Status, dtype: int64"
      ]
     },
     "execution_count": 297,
     "metadata": {},
     "output_type": "execute_result"
    }
   ],
   "source": [
    "target_train.value_counts()"
   ]
  },
  {
   "cell_type": "code",
   "execution_count": 298,
   "id": "8b5b4cc2",
   "metadata": {},
   "outputs": [
    {
     "data": {
      "text/plain": [
       "0    2723\n",
       "1    2723\n",
       "Name: Status, dtype: int64"
      ]
     },
     "execution_count": 298,
     "metadata": {},
     "output_type": "execute_result"
    }
   ],
   "source": [
    "target_train_sm.value_counts()"
   ]
  },
  {
   "cell_type": "markdown",
   "id": "536a152d",
   "metadata": {},
   "source": [
    "**Observation:**\n",
    "* dead value count increased and now equal to alive"
   ]
  },
  {
   "cell_type": "code",
   "execution_count": 299,
   "id": "df1a1d0b",
   "metadata": {},
   "outputs": [
    {
     "data": {
      "text/plain": [
       "<matplotlib.legend.Legend at 0x2753f1188e0>"
      ]
     },
     "execution_count": 299,
     "metadata": {},
     "output_type": "execute_result"
    },
    {
     "data": {
      "image/png": "[encoded data removed]",
      "text/plain": [
       "<Figure size 720x1440 with 1 Axes>"
      ]
     },
     "metadata": {},
     "output_type": "display_data"
    }
   ],
   "source": [
    "plt.figure(figsize = (10,20))\n",
    "plt.pie(pd.array(target_train_sm).value_counts(), labels=Status, colors=['#c9171d', '#fb7050'], startangle=180,\n",
    "        shadow = True, autopct = '%.1f%%', textprops={'fontsize': 14}, explode = {0.1, 0})\n",
    "plt.legend()"
   ]
  },
  {
   "cell_type": "markdown",
   "id": "a9f247b9",
   "metadata": {},
   "source": [
    "### Model Using Random Forest Model"
   ]
  },
  {
   "cell_type": "markdown",
   "id": "a1319671",
   "metadata": {},
   "source": [
    "#### Without Hyperparameter tuning:"
   ]
  },
  {
   "cell_type": "code",
   "execution_count": 300,
   "id": "e5e39bfb",
   "metadata": {},
   "outputs": [
    {
     "data": {
      "text/plain": [
       "0.8894409937888199"
      ]
     },
     "execution_count": 300,
     "metadata": {},
     "output_type": "execute_result"
    }
   ],
   "source": [
    "from sklearn.ensemble import RandomForestClassifier\n",
    "\n",
    "random_forest_model = RandomForestClassifier()\n",
    "random_forest_model.fit(input_train_sm, target_train_sm)\n",
    "random_forest_model.score(input_test, target_test)"
   ]
  },
  {
   "cell_type": "markdown",
   "id": "187d90ac",
   "metadata": {},
   "source": [
    "#### With Hyperparameter tuning:"
   ]
  },
  {
   "cell_type": "code",
   "execution_count": 301,
   "id": "b3d080e4",
   "metadata": {},
   "outputs": [
    {
     "name": "stdout",
     "output_type": "stream",
     "text": [
      "Fitting 4 folds for each of 120 candidates, totalling 480 fits\n",
      "{'bootstrap': False, 'criterion': 'gini', 'max_depth': 8, 'max_features': 'sqrt', 'n_estimators': 200} 0.8503524336968261\n"
     ]
    }
   ],
   "source": [
    "from sklearn.model_selection import GridSearchCV\n",
    "\n",
    "grid_search = { \n",
    "    'n_estimators': [200, 500],                  # Number of trees in random forest\n",
    "    'max_features': ['auto', 'sqrt', 'log2'],    # Number of features to consider at every split\n",
    "    'max_depth' : [4,5,6,7,8],                   # Maximum number of levels in tree\n",
    "    'criterion' :['gini', 'entropy'],\n",
    "    'bootstrap' : [True, False]                  # Method of selecting samples for training each tree\n",
    "\n",
    "}\n",
    "\n",
    "\n",
    "model = RandomForestClassifier()\n",
    "model_gs = GridSearchCV(estimator = model, param_grid = grid_search, cv = 4, verbose = 2, n_jobs = 4)\n",
    "model_gs.fit(input_train_sm,target_train_sm)\n",
    "\n",
    "print(model_gs.best_params_, model_gs.best_score_)"
   ]
  },
  {
   "cell_type": "markdown",
   "id": "498e736f",
   "metadata": {},
   "source": [
    "**Observation:**\n",
    "* The accuracy decreased after smote imbalancing"
   ]
  },
  {
   "cell_type": "code",
   "execution_count": null,
   "id": "869e6a65",
   "metadata": {},
   "outputs": [],
   "source": []
  }
 ],
 "metadata": {
  "kernelspec": {
   "display_name": "Python 3 (ipykernel)",
   "language": "python",
   "name": "python3"
  },
  "language_info": {
   "codemirror_mode": {
    "name": "ipython",
    "version": 3
   },
   "file_extension": ".py",
   "mimetype": "text/x-python",
   "name": "python",
   "nbconvert_exporter": "python",
   "pygments_lexer": "ipython3",
   "version": "3.9.12"
  }
 },
 "nbformat": 4,
 "nbformat_minor": 5
}
